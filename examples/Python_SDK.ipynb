{
 "cells": [
  {
   "cell_type": "code",
   "execution_count": 1,
   "id": "3ebc7e59-7de0-44b3-a714-d3013d91b063",
   "metadata": {
    "tags": []
   },
   "outputs": [
    {
     "name": "stdout",
     "output_type": "stream",
     "text": [
      "Requirement already satisfied: python-dotenv in /Users/vassilis/anaconda3/lib/python3.11/site-packages (1.0.1)\n",
      "Note: you may need to restart the kernel to use updated packages.\n"
     ]
    }
   ],
   "source": [
    "pip install python-dotenv"
   ]
  },
  {
   "cell_type": "code",
   "execution_count": 2,
   "id": "55eb526d-3519-45ec-bfe3-d8e6faf443a1",
   "metadata": {
    "tags": []
   },
   "outputs": [
    {
     "name": "stderr",
     "output_type": "stream",
     "text": [
      "/Users/vassilis/anaconda3/lib/python3.11/site-packages/pandas/core/arrays/masked.py:60: UserWarning: Pandas requires version '1.3.6' or newer of 'bottleneck' (version '1.3.5' currently installed).\n",
      "  from pandas.core import (\n"
     ]
    }
   ],
   "source": [
    "from jaqpotpy.jaqpot import Jaqpot\n",
    "from jaqpotpy.descriptors.molecular import TopologicalFingerprint\n",
    "from jaqpotpy.datasets import JaqpotpyDataset\n",
    "from jaqpotpy.api.openapi.models.dataset import Dataset\n",
    "from jaqpotpy.api.openapi.models import DatasetType\n",
    "import pandas as pd\n",
    "import os"
   ]
  },
  {
   "cell_type": "code",
   "execution_count": 3,
   "id": "448b283f-671a-4478-95f1-dec956979003",
   "metadata": {
    "tags": []
   },
   "outputs": [],
   "source": [
    "from dotenv import load_dotenv\n",
    "load_dotenv('.env')\n",
    "from jaqpotpy.api.jaqpot_api_client import JaqpotApiClient"
   ]
  },
  {
   "cell_type": "code",
   "execution_count": 4,
   "id": "5beed7ba-33e7-400d-8faf-df4098c546c2",
   "metadata": {
    "tags": []
   },
   "outputs": [
    {
     "name": "stdout",
     "output_type": "stream",
     "text": [
      "{'id': 6, 'name': 'QSAR Toolbox Calculator Integration', 'description': '# QSAR Toolbox Calculator Integration\\n\\nThis machine learning model serves as an interface for the [QSAR Toolbox API](https://qsartoolbox.org/), allowing users to input SMILES strings and choose a calculator type to generate various predictive values.\\n\\n**Key Features:**\\n- Accepts molecular structures in SMILES notation\\n- Leverages specific calculators from the QSAR Toolbox for predictions\\n- Provides predictive results based on the selected calculator and input\\n\\nFor further information, visit the [QSAR Toolbox website](https://qsartoolbox.org/).\\n', 'type': <ModelType.QSAR_TOOLBOX_CALCULATOR: 'QSAR_TOOLBOX_CALCULATOR'>, 'jaqpotpyVersion': '1.0.0', 'libraries': [], 'dependentFeatures': [{'id': 12, 'key': 'Value', 'name': 'Value', 'description': '', 'featureType': <FeatureType.FLOAT: 'FLOAT'>, 'featureDependency': 'DEPENDENT', 'createdAt': datetime.datetime(2024, 7, 17, 10, 9, 11, 220679, tzinfo=TzInfo(UTC)), 'updatedAt': datetime.datetime(2024, 7, 17, 10, 9, 11, 220733, tzinfo=TzInfo(UTC))}, {'id': 13, 'key': 'Unit', 'name': 'Unit', 'description': '', 'featureType': <FeatureType.STRING: 'STRING'>, 'featureDependency': 'DEPENDENT', 'createdAt': datetime.datetime(2024, 7, 17, 10, 9, 11, 223985, tzinfo=TzInfo(UTC)), 'updatedAt': datetime.datetime(2024, 7, 17, 10, 9, 11, 224026, tzinfo=TzInfo(UTC))}, {'id': 37174, 'key': 'Name', 'name': 'Name', 'description': '', 'featureType': <FeatureType.STRING: 'STRING'>, 'featureDependency': 'DEPENDENT', 'createdAt': datetime.datetime(2024, 7, 17, 10, 9, 11, 220679, tzinfo=TzInfo(UTC)), 'updatedAt': datetime.datetime(2024, 7, 17, 10, 9, 11, 220733, tzinfo=TzInfo(UTC))}], 'independentFeatures': [{'id': 14, 'key': 'smiles', 'name': 'A Smiles representation', 'description': 'A Smiles representation A Smiles representationA Smiles representationA Smiles representationA Smiles representationA Smiles representationA Smiles representationA Smiles representationA Smiles representationA Smiles representation', 'featureType': <FeatureType.STRING: 'STRING'>, 'featureDependency': 'INDEPENDENT', 'createdAt': datetime.datetime(2024, 7, 17, 10, 9, 11, 225764, tzinfo=TzInfo(UTC)), 'updatedAt': datetime.datetime(2024, 7, 17, 10, 9, 11, 225798, tzinfo=TzInfo(UTC))}, {'id': 15, 'key': 'calculatorGuid', 'name': 'Calculator', 'description': 'A Smiles representation A Smiles representationA Smiles representationA Smiles representationA Smiles representationA Smiles representationA Smiles representationA Smiles representationA Smiles representationA Smiles representation', 'featureType': <FeatureType.CATEGORICAL: 'CATEGORICAL'>, 'featureDependency': 'INDEPENDENT', 'possibleValues': [{'key': '036e8e9a-cbc8-47d8-b123-c8b5867fbf20', 'value': 'Calculated heat of formation'}, {'key': '4d251795-5ce3-4dd9-b51e-fd73b8268815', 'value': 'Diameter effective'}, {'key': '1804a854-9041-4495-9931-7414c22a5e49', 'value': 'Diameter maximum'}, {'key': '4ea82d5b-449a-4a37-aba1-1205757440ea', 'value': 'Diameter minimum'}, {'key': '3d368015-29ba-4732-83eb-e8dbcaceedc5', 'value': 'Dipole moment'}, {'key': '8972176e-2f79-48c3-afa2-9a490107ff94', 'value': 'Electronegativity'}, {'key': 'c3f07bc4-04ec-4559-a591-dc3d43184b9a', 'value': 'GAP Energy'}, {'key': '69743ffc-6464-4940-a391-f15aa46e6463', 'value': 'Geometric info Wiener index'}, {'key': '79a77fbc-0293-4175-8971-1be40a49e0ef', 'value': 'Geometric Wiener index'}, {'key': '1ef22f57-67ef-47c7-9256-86f8aaa09752', 'value': 'HOMO Energy'}, {'key': '0f74bf52-4574-419e-911e-3cbbaa40c546', 'value': 'LUMO Energy'}, {'key': 'fc50f3d8-fe38-4658-8431-9ca643f5b3d4', 'value': 'Maximum distance'}, {'key': 'd9f4b140-9122-4d0a-b783-6ff716d3812d', 'value': 'Maximum donor delocalizability'}, {'key': 'c7479fe4-9422-407c-bd4f-6ffe4cf8b8be', 'value': 'Planarity'}, {'key': '5c3b7c38-3c68-4107-8c4f-b6a577f109ff', 'value': 'Planarity conjugated'}, {'key': '1a7b9402-20bb-4504-906f-718b070fc1d9', 'value': 'VdW surface'}, {'key': '807187a3-963c-481f-9d76-290ddb8cd00a', 'value': 'VdW surface DPSA1'}, {'key': '5f5232f0-50aa-4701-9da2-c326041a7fbb', 'value': 'VdW surface DPSA2'}, {'key': '9452c7e2-3faa-4e5e-bdd0-edb4caea17c0', 'value': 'VdW surface DPSA3'}, {'key': '2c50bb51-b746-4a0d-99cb-8c74aa6897be', 'value': 'VdW surface PNSA1'}, {'key': 'dedc426d-8d5e-4c14-a0dc-c5499f2420dd', 'value': 'VdW surface PNSA2'}, {'key': '660fa11d-34d9-44b6-bd05-7d981e85195d', 'value': 'VdW surface PNSA3'}, {'key': '348dff55-97ac-4b2d-8ca2-05d4a792dbfa', 'value': 'VdW surface PPSA1'}, {'key': '6f03a50c-4042-4925-bfc5-9948ac80e1f0', 'value': 'VdW surface PPSA2'}, {'key': '5c9e9233-c1b5-44f9-acdf-3e7f3deaf284', 'value': 'VdW surface PPSA3'}, {'key': '992719d7-fb72-4bf0-b6e9-a90f6119e9a2', 'value': 'VdW volume'}, {'key': 'edbc2aff-a3dc-48a1-afc2-cf0ff9906ec7', 'value': 'Volume Polarizability'}, {'key': '6ff39f26-51a1-4b6a-b088-0515958bcaa7', 'value': '(Q) Acidic pKa (Chemaxon)'}, {'key': 'af55961b-adc3-438c-8925-cb06f84839fd', 'value': '(Q) Basic pKa (Chemaxon)'}, {'key': '06aac1c2-d817-4509-a691-f0f508e5b4ef', 'value': 'Acidic pKa (OASIS composite calculator)'}, {'key': 'f82c7750-0abd-45a3-a0da-a797015fb3ea', 'value': 'Acidic pKa (OASIS Consensus)'}, {'key': '34f5bbe7-10fd-457d-b279-3e41e9cde208', 'value': 'Acidic pKa (OASIS Electric)'}, {'key': '3ac09b97-c12c-449b-bf2a-b45eeabbdc45', 'value': 'Acidic pKa (OASIS Regression)'}, {'key': '451a39fb-59c9-4d09-a491-b00c72bf6f8b', 'value': 'Amino acids pKa (OASIS Regression)'}, {'key': '9bb20642-1f3b-4d2d-acba-0d6d4b688f92', 'value': 'BAF'}, {'key': 'f272f5da-b806-4e82-8450-5f1b6787b68d', 'value': 'BAF (lower trophic)'}, {'key': 'a561e542-a9e9-4088-a185-d38c40892d61', 'value': 'BAF (mid trophic)'}, {'key': '33784cff-0ecb-480c-bac4-2ba26f766da0', 'value': 'BAF (upper trophic, biotransformation rate is zero)'}, {'key': 'd02d698c-aa78-436b-acc3-cd64a604b1d7', 'value': 'BAF (upper trophic)'}, {'key': '2f741ad2-6b02-40a2-a515-b4fd9b3d3f73', 'value': 'Basic pKa (OASIS Regression)'}, {'key': '46b6e16b-40c0-4038-be12-0a219421b259', 'value': 'BCF'}, {'key': '2a5e2a0c-4297-4d55-b47b-8ab806bb606c', 'value': 'BCF (lower trophic)'}, {'key': '1fb5f79b-a392-4a51-af21-c12ad2ca2798', 'value': 'BCF (mid trophic)'}, {'key': '594eed30-cd2b-4dbd-a292-464605e1b4fd', 'value': 'BCF (upper trophic, biotransformation rate is zero)'}, {'key': '2b094e5c-0418-4276-a51a-3acb8f4dee92', 'value': 'BCF (upper trophic)'}, {'key': 'ae2c0208-7446-40fa-a717-90b4cb5c0f69', 'value': 'Bio Half-Life'}, {'key': 'a175721a-26c8-4efe-9fd2-58b8b9501ea8', 'value': 'Biodeg probability (Biowin 1)'}, {'key': '26fa8f20-a641-4694-984a-cf0916a96582', 'value': 'Biodeg probability (Biowin 2)'}, {'key': '2214f1e7-d6a4-44e4-b9b8-4f83ee718438', 'value': 'Biodeg probability (Biowin 5)'}, {'key': 'd68d4ae3-6e41-4985-899c-fb54f0bd7aed', 'value': 'Biodeg probability (Biowin 6)'}, {'key': 'a250a49f-10d6-4022-887d-89fa6d9c4549', 'value': 'Biodeg probability (Biowin 7)'}, {'key': 'ff21291e-b0ae-41ae-b875-5099850cee1f', 'value': 'BioHC Half-Life'}, {'key': 'aeaeede6-6140-4d2c-a0cb-6cbffed9cd56', 'value': 'Biotransformation Half-Life'}, {'key': '8ef98a7f-b34b-49f4-931c-08e451c410b7', 'value': 'Boiling point'}, {'key': 'c810f6a2-b524-42c0-8e7a-b90a21b8e7cb', 'value': 'Exp Boiling Point'}, {'key': '9f32f266-c291-4a33-abf9-3a40f6093959', 'value': 'Exp Henrys Law Constant'}, {'key': 'c528e5b7-4af2-461b-b8f0-12fd3646c7c6', 'value': 'Exp Log P'}, {'key': 'd2042be6-b33f-425a-9c9e-676e079f23f5', 'value': 'Exp Melting Point'}, {'key': 'db67dc5d-8184-4f1e-ae06-59fd1d762759', 'value': 'Exp NO3 rate constant'}, {'key': 'a0177de0-be88-463e-ab7e-d29bc1b68625', 'value': 'Exp OH rate constant'}, {'key': '425bac7f-e6e6-466f-9109-3f1b0fb29adc', 'value': 'Exp Ozone rate constant'}, {'key': 'e9860770-1101-44b1-8c4b-7bcd6186b29e', 'value': 'Exp Vapor Pressure'}, {'key': '1566ef0c-4ac6-4b0b-aadf-a4f29e8f3367', 'value': 'Exp Water Solubility'}, {'key': 'd1746575-3733-47ee-a43a-2a127d281aa5', 'value': 'FM advection air'}, {'key': 'b38156ed-a833-45dc-8880-ed0d1dd35a29', 'value': 'FM advection sediment'}, {'key': '183d2e2f-2dcd-48f6-8bd7-8311e32720c4', 'value': 'FM advection soil'}, {'key': '55ffc4c8-a9fa-49bb-a48a-d795d1a5c097', 'value': 'FM advection time'}, {'key': '6b60006b-6b4d-4239-bf78-edd57ca6b693', 'value': 'FM advection water'}, {'key': '59558eb1-dc32-424c-84d7-d023148ae8a3', 'value': 'FM emissions air'}, {'key': 'f1cced06-0dd6-45df-8285-080cbe6c2f80', 'value': 'FM emissions sedmient'}, {'key': '9a447f9c-9d64-4984-9d55-a5284c26ad3c', 'value': 'FM emissions soil'}, {'key': '46bfefbb-928d-4f37-8426-334ab675819e', 'value': 'FM emissions water'}, {'key': '44520273-fabd-42c4-820f-43f4115eb28c', 'value': 'FM fugacity air'}, {'key': '9d7410fb-591a-4b20-aa6d-6e9cf049418d', 'value': 'FM fugacity sediment'}, {'key': '71162ccd-66e3-4342-83ec-9cba1a45671f', 'value': 'FM fugacity soil'}, {'key': '53215389-fd91-4c8c-92e7-2c386814de61', 'value': 'FM fugacity water'}, {'key': 'ff199f03-2c7d-4f19-80aa-a7d5a07a024a', 'value': 'FM half-life air'}, {'key': 'e76930cc-706f-40a4-9d3b-8c77b9cb4eef', 'value': 'FM half-life sediment'}, {'key': '0b471191-558f-45ab-9027-170045b01700', 'value': 'FM half-life soil'}, {'key': '5f58d661-f8a7-4bcf-8e5d-8199ff5123e7', 'value': 'FM half-life water'}, {'key': '7cfc1fe8-2f04-4f9b-9b9e-ee6e326ae002', 'value': 'FM mass amount air'}, {'key': 'f681a891-3b17-424e-88c3-0a332c274d00', 'value': 'FM mass amount sediment'}, {'key': 'ff29bccf-3944-48c7-9279-9f19db4a52d2', 'value': 'FM mass amount soil'}, {'key': 'e1bc24e7-73c2-4638-ae54-913a99308d10', 'value': 'FM mass amount water'}, {'key': 'a5145b2b-71db-4772-b30b-77df3bef6208', 'value': 'FM percent advected'}, {'key': 'f5623c51-9f40-4586-b74b-3d77e9e52bfc', 'value': 'FM percent reacted'}, {'key': '923ae9b5-a5b3-420d-8fe5-dc8840a4a25f', 'value': 'FM persistence time'}, {'key': 'fad94e4e-c8d4-4650-8be5-98c31020eb98', 'value': 'FM reaction air'}, {'key': '7b797845-457d-4d05-a540-40aa8ab6e536', 'value': 'FM reaction sediment'}, {'key': '83b4bf49-eb54-43d1-b2fa-87f81ab04d63', 'value': 'FM reaction soil'}, {'key': 'bc616d24-d20d-4317-b243-a3c588fc8a33', 'value': 'FM reaction time'}, {'key': '0f74b5fb-bc78-490e-816a-4ac01c3b4329', 'value': 'FM reaction water'}, {'key': 'a5aa91d5-6d28-4d51-88f3-0ec3e5133bed', 'value': 'GSH Reactivity'}, {'key': '1f4dbfde-b9dd-448c-a2da-c949277e0dd6', 'value': 'Half-Life (Model Lake)'}, {'key': '20cce1cd-8e39-46da-8c63-229691d5bbaf', 'value': 'Half-Life (Model River)'}, {'key': '2d8063ed-0fc1-47d3-9932-db3790b0c696', 'value': 'Half-Life (Observed metabolism)'}, {'key': '5231e80b-4ba3-493c-9e43-27ab2bee405d', 'value': 'Henrys Law Constant (Bond Method)'}, {'key': 'bcaf3d05-13b1-4adf-aee2-0ace456a4cd7', 'value': 'Henrys law Constant (Group Method)'}, {'key': '7f667b37-8996-459d-bcd5-c1ea5f6b49c1', 'value': 'Hydrolysis half-life (pH 6.5-7.4)'}, {'key': '925d9437-38a5-45b2-a632-6fd9ee0bc4c0', 'value': 'Ka Half-Life (pH 7)'}, {'key': 'dcfc8db9-b589-47c0-808a-d399aa9df64a', 'value': 'Ka Half-Life (pH 8)'}, {'key': 'c9a2e0a8-13fc-456a-80e9-ea138f7c13e9', 'value': 'Kb half-life (pH 7)'}, {'key': 'd74de08b-88f8-4987-8965-0cc8c7bcd4ad', 'value': 'Kb half-life (pH 8)'}, {'key': '363136e6-bfa4-4f4c-8855-d08bf998da27', 'value': 'kM'}, {'key': '617bc4ae-09c4-4ed1-b7b2-62e4ecab29be', 'value': 'Koc (Log Kow)'}, {'key': '614e937a-1825-4aac-84b3-f0fbcac6c371', 'value': 'Koc (MCI)'}, {'key': 'de85401f-2ddc-437c-99a7-edfb637e1852', 'value': 'Kp (Mackay method)'}, {'key': '2f290f09-d86d-41dc-b22e-e7102d7304b4', 'value': 'Kp (Octanol/air (Koa) model)'}, {'key': 'ebb921a6-a46a-4f13-9682-e06842d4ec47', 'value': 'Lipid Solubility'}, {'key': '3ace2a92-d8df-4702-8e43-6a2c2d9d8698', 'value': 'log BCF max'}, {'key': '80793efd-f61b-4a11-a2cd-509835c48695', 'value': 'Log Koa (Air-water partition coefficient model)'}, {'key': '44dff8ec-d2eb-49d8-824a-70fc73a4e431', 'value': \"Log Koa (Henry's law constant model)\"}, {'key': '41552380-4d5d-4eab-bee0-03774c0eabb6', 'value': 'log Kow'}, {'key': '6a2527dc-0e12-4404-8351-ace5154f42f3', 'value': 'Mean Melting Point'}, {'key': '7b31e035-c1e0-4345-9626-00e17d0df158', 'value': 'Melting Point (Adapted Joback Method)'}, {'key': 'b044db97-2bee-4357-be63-000fcd481923', 'value': 'Melting point (Gold and Ogle method)'}, {'key': '5af55e42-ba54-4133-8dd5-c21403075b40', 'value': 'Molar refraction I'}, {'key': '6506737b-c005-4e39-94dd-d07ceff1f06d', 'value': 'Molar refraction II'}, {'key': '5201c805-e2c7-49a2-bb50-d2dfc7eb8f16', 'value': 'Molecular Weight'}, {'key': '2583b370-d47f-4a7c-9124-2a77e52025c6', 'value': 'Number of aromatic bonds'}, {'key': 'cf4c1868-7175-4fd5-ae35-98bed29e43f1', 'value': 'Number of cyclic bonds'}, {'key': '7cbec8b9-f13b-431e-89ea-b427cbccdf5a', 'value': 'Number of double bonds'}, {'key': '4fc77382-852a-4267-812b-cc3addd2a871', 'value': 'Number of heavy atoms'}, {'key': '02c7deb7-8b97-42b0-8f10-b514bfed41b6', 'value': 'Number of nitro groups'}, {'key': '22bd1f84-e7b6-47bd-b063-70d6e0ac3ed4', 'value': 'Number of rings'}, {'key': '2f548a7a-5e28-431a-ab26-7c43f6813348', 'value': 'Number of single bonds'}, {'key': '0b4681d0-d53f-4fb8-ba7f-11ce430e706e', 'value': 'Number of single bonds (with H)'}, {'key': '7e2c037a-f7c5-49e7-a80e-0930ab5467c2', 'value': 'OVERALL OH Half-life'}, {'key': '730ad5f4-f29e-4dde-8ed2-0cf5afb698f4', 'value': 'OVERALL OH rate constant'}, {'key': '11d0eb5c-c12c-4454-b0d3-f941518ec8d4', 'value': 'OVERALL OZONE Half-life'}, {'key': '4b236c83-3ce9-4902-b7de-7efa2c2ab7bb', 'value': 'OVERALL OZONE rate constant'}, {'key': 'd46b249c-11b4-4fb9-a147-b1bd815c4fdf', 'value': 'phi (Junge-Pankow model)'}, {'key': '39f0f6c8-96c1-4d3b-ad8c-8d6841f40676', 'value': 'phi (Mackay model)'}, {'key': '8021fad0-a401-475b-af69-0f7a5d2ec871', 'value': 'phi (Octanol/air (Koa) model)'}, {'key': '1c4f7a1d-5f60-46f1-822f-c740430c1c64', 'value': 'Primary biodeg (Biowin 4)'}, {'key': '8a60f10c-d448-415f-80e7-2410234d2dc3', 'value': 'Ready Biodegradability Prediction'}, {'key': '26d2aecb-bc27-425c-bbdd-5a988be02739', 'value': 'Relative number of N atoms'}, {'key': '9dc64fed-3cc1-413a-a62a-c4da7ae036a2', 'value': 'Selected Melting Point'}, {'key': 'aee3c2be-eb11-4abc-8cf8-2c2175568d3b', 'value': 'Selected Vapor Pressure'}, {'key': '7ad07f45-3232-4c9e-abbd-aa13eea1f0f9', 'value': 'Similarity'}, {'key': 'c3b10444-221a-424a-b00d-d50e1085db58', 'value': 'STP FM (Total biodegradation)'}, {'key': '277ef2b8-df72-4e74-a805-9c61aa1a9aad', 'value': 'STP FM (Total removal)'}, {'key': '927fccab-a942-472e-a2d0-96b989b9f6ce', 'value': 'Subcooled liquid Vapor Pressure'}, {'key': 'caa133cb-e996-4593-81a1-d5db7c380b34', 'value': 'Surface Tension'}, {'key': 'ec05e8c5-79b3-44cb-bbd8-144b646f3b57', 'value': 'Total Kb'}, {'key': 'c4a6d74b-fa52-45d1-8e98-f329e6334a95', 'value': 'Ultimate biodeg (Biowin 3)'}, {'key': '7fbe8bfb-1425-4a11-8113-ec183203c073', 'value': 'Vapor Pressure (Antoine method)'}, {'key': 'c7dc2a96-b737-48bf-8bf0-604469d2b482', 'value': 'Vapor Pressure (Mackay method)'}, {'key': '89be8944-dbf5-48a0-9d64-b851727a8996', 'value': 'Vapor Pressure (Modified Grain Method)'}, {'key': 'fbdbb4ca-3ece-4047-9c74-6559e4b7fa4d', 'value': 'Water Solubility'}, {'key': '0cb28eb0-77e1-458d-91eb-35f294f0c32a', 'value': 'Water Solubility (fragments)'}], 'createdAt': datetime.datetime(2024, 7, 17, 10, 9, 11, 227058, tzinfo=TzInfo(UTC)), 'updatedAt': datetime.datetime(2024, 10, 8, 7, 21, 14, 729213, tzinfo=TzInfo(UTC))}], 'sharedWithOrganizations': [], 'visibility': <ModelVisibility.PUBLIC: 'PUBLIC'>, 'task': <ModelTask.REGRESSION: 'REGRESSION'>, 'rawModel': '', 'creator': {'id': '1ed66eb6-f4c8-4158-930e-9ba2a247adb3', 'username': 'jaqpot-team', 'firstName': 'Jaqpot', 'lastName': 'Team', 'email': 'jaqpot+1@jaqpot.org', 'emailVerified': True}, 'canEdit': False, 'isAdmin': False, 'tags': '', 'createdAt': datetime.datetime(2024, 7, 17, 10, 9, 10, 732005, tzinfo=TzInfo(UTC)), 'updatedAt': datetime.datetime(2024, 10, 1, 9, 17, 54, 935080, tzinfo=TzInfo(UTC))}\n"
     ]
    }
   ],
   "source": [
    "jaqpot = JaqpotApiClient()\n",
    "model = jaqpot.get_model_by_id(6)\n",
    "print(model)"
   ]
  },
  {
   "cell_type": "markdown",
   "id": "c921e44d-64d9-491e-b291-26bd4ea453e8",
   "metadata": {},
   "source": [
    "# Login to jaqpot"
   ]
  },
  {
   "cell_type": "markdown",
   "id": "a41405c7-c6c7-4031-bff6-51f1facf54eb",
   "metadata": {},
   "source": [
    "# Get all shared model"
   ]
  },
  {
   "cell_type": "code",
   "execution_count": 5,
   "id": "60aece74-4c58-4766-b0a6-911679f96de4",
   "metadata": {
    "tags": []
   },
   "outputs": [
    {
     "name": "stdout",
     "output_type": "stream",
     "text": [
      "status_code=200 headers={'Date': 'Tue, 08 Oct 2024 07:30:20 GMT', 'Content-Type': 'application/json', 'Transfer-Encoding': 'chunked', 'Connection': 'keep-alive', 'Vary': 'Access-Control-Request-Headers', 'X-Content-Type-Options': 'nosniff', 'X-XSS-Protection': '0', 'Cache-Control': 'no-cache, no-store, max-age=0, must-revalidate', 'Pragma': 'no-cache', 'Expires': '0', 'Strict-Transport-Security': 'max-age=31536000 ; includeSubDomains', 'X-Frame-Options': 'DENY'} data=GetModels200Response(content=[ModelSummary(id=1703, name='PPAR-alpha QSAR', visibility=<ModelVisibility.ORG_SHARED: 'ORG_SHARED'>, description='**THIS MODEL IS STILL UNDER DEVELOPMENT**\\n\\nThis model was developed using experimental data on PPaR-α induction generated in the SCENARIOS project. The quantitative structure-activity (QSAR) model predicts the induction of the receptor on different concentration levels. The model used as input the concentration level, the physicochemical characteristics of the tested PFAS determined through computational descriptors and binding energy scores estimated using in silico tools in SCENARIOS. The model yielded cross-validation R2 score of 0.80 and 0.91 in the test set. The binding energy estimate was one of the most important features, which highlights the significance of utilizing in silico tools to interpret results obtained from experimental procedure and to develop composite computational descriptors in predictive modelling.', creator=None, type=<ModelType.R_CARET: 'R_CARET'>, dependent_features_length=1, independent_features_length=7, shared_with_organizations=[OrganizationSummary(id=4, name='SCENARIOS')], created_at=datetime.datetime(2023, 7, 21, 21, 0, tzinfo=TzInfo(UTC)), updated_at=datetime.datetime(2024, 9, 2, 10, 37, 36, 639575, tzinfo=TzInfo(UTC))), ModelSummary(id=1704, name='PFAS Cytotoxicity QSAR', visibility=<ModelVisibility.ORG_SHARED: 'ORG_SHARED'>, description='\\n**THIS MODEL IS STILL UNDER DEVELOPMENT**\\n\\nThis model was developed using experimental data generated in the SCENARIOS project. The quantitative structure-activity (QSAR) model predicts the cell vaibility after exposure to different concentration levels of PFAS in four different cell lines: HepaRG (liver), HEK293 (kidney),PBMC(blood), and A549 (lungs). Based on these results, an XGBoost model was developed using computational descriptors as well as experimental descriptors like exposure duration, assay type, albumin concentration and ionic strength of the medium. The final model yielded cross-validation R2 score of 0.72 and 0.75 in the test set.\\n\\n\\n\\n## How to produce the descriptors from SMILES\\n\\n* Retrive PFAS SMILES from [here](https://github.com/ntua-unit-of-control-and-informatics/QSAR_PFAS/blob/main/Clustering/Chemical%20List%20PFASSTRUCTV5-2022-12-16.csv)\\n* Follow this [link](https://colab.research.google.com/drive/1AdlR-iaYAu4OSXzLf-jgyUZrbyQrl_-s?usp=sharing) to go to a google colab environment, provide an xlsx file containing the SMILES of the substances\\n\\nTODO: insert QMRF report', creator=None, type=<ModelType.R_CARET: 'R_CARET'>, dependent_features_length=1, independent_features_length=10, shared_with_organizations=[OrganizationSummary(id=4, name='SCENARIOS')], created_at=datetime.datetime(2023, 7, 22, 21, 0, tzinfo=TzInfo(UTC)), updated_at=datetime.datetime(2024, 9, 9, 11, 47, 4, 786061, tzinfo=TzInfo(UTC))), ModelSummary(id=1690, name='Uptake and Elimination of PFAS in D.magna', visibility=<ModelVisibility.ORG_SHARED: 'ORG_SHARED'>, description='\\n**THIS MODEL IS STILL UNDER DEVELOPMENT**\\n\\n# Biokinetics model for uptake and elimination of PFAS in D.magna\\n\\n The present model has been developed using the data reported in [Wang et al., 2023](https://doi.org/10.1021/acs.est.2c07631) for describing the accumulation of 13 PFAS congener4s in D.magna after water exposure. The structural model considered is presented in the figure below. In short, a two-compartment model is considered, with one compartment being unbound PFAS and the other PFAS bound in proteins/apolipoproteins.  <br> </br>\\nUsing this web service, the user can run in silico experiments and witness changes in the accumulation of several PFAS in D.magna. The description and units of the state variables and independent model features can be found in the \\'Features\\' tab. The parameter `PFAS` is used to select one of the available PFAS included in the model: PFBA, F-53B, GenX, PFBS, PFDA, PFDoA, PFHpA, PFHxA, PFNA, PFOA, PFOS, PFPeA, PFUnA. The user can also set the water temperature (`temperature `) within the 15-25 oC range, the initial age of the organism exposed to PFAS (`init_age`), with 1 as the lowest possible value, the water concentration (`Cwater`) and the food level (`food`). The latter parameter is used to incorporate the impact of food availability in the weight prediction, with two options: \\'H\\' for high food, which is around 6*10^5 cells/mL, and \\'L\\' for low food, which is around 10^5 cells/mL. \\nThe R code used to deploy the model on Jaqpot can be found in UPCI\\'s [GitHub Repository](https://github.com/ntua-unit-of-control-and-informatics/PFAS_biokinetics_models/tree/main/D.Magna/Wang_2023). \\n<br> </br>\\n![](https://raw.githubusercontent.com/periklis91/images/master/PFAS_Dmagna.png \"structural model representation\")\\n\\n<br> </br>\\n', creator=None, type=<ModelType.R_PBPK: 'R_PBPK'>, dependent_features_length=6, independent_features_length=8, shared_with_organizations=[OrganizationSummary(id=4, name='SCENARIOS')], created_at=datetime.datetime(2023, 5, 28, 21, 0, tzinfo=TzInfo(UTC)), updated_at=datetime.datetime(2024, 9, 9, 11, 56, 55, 157072, tzinfo=TzInfo(UTC))), ModelSummary(id=1776, name='QSAR PFAS-Albumin', visibility=<ModelVisibility.ORG_SHARED: 'ORG_SHARED'>, description='This model predicts the log Ka (binding affinity constant) of different PFAS congeners to albumin. The model was developed using a novel dataset compiled from literature sources. For categorical variables, the user should select one of the levels presented below. For continuous variables, the user is encouraged to use a value within the limits presented below:\\n\\n\\nLevels (categorical variables) and ranges (continuous variables)\\n\\nModel: Other/ Scatchard equation \\\\\\nMethod: 19F NMR Titration / DSF / Equilibrium dialysis/ ESI-MS/ fluorescence quenching / Isothermal Titration Calorimetry / Microdesalting Column Separation / ultrafiltration centrifugation \\\\\\nAlbumin Source: Bos taurus / Homo sapiens / Rattus norvegicus / Sus scrofa domesticus \\\\\\nAlbumin concentration range: 2e-07 - 6e+02 [uM] \\\\\\nWlambda1.unity range: 0.66 - 1.66 \\\\\\nTemperature: 294 320 [K]\\\\\\nMolecular Weight: 214 - 714 [g/mol] \\\\\\nMax.Ligand-Protein.concentration : 2e-03 - 5e+04 ', creator=None, type=<ModelType.R_CARET: 'R_CARET'>, dependent_features_length=1, independent_features_length=8, shared_with_organizations=[OrganizationSummary(id=4, name='SCENARIOS')], created_at=datetime.datetime(2024, 5, 20, 21, 0, tzinfo=TzInfo(UTC)), updated_at=datetime.datetime(2024, 9, 9, 11, 52, 6, 237592, tzinfo=TzInfo(UTC))), ModelSummary(id=1729, name='PFAS PBK Model for Zebrafish (Danio rerio)', visibility=<ModelVisibility.ORG_SHARED: 'ORG_SHARED'>, description='The model of this application is a deployment of the model published by [Golosovskaia et al., 2024](https://doi.org/10.1016/j.scitotenv.2023.168738) in the paper titled as <b>\"Studying mixture effects on uptake and tissue distribution of PFAS in zebrafish (Danio rerio) using physiologically based kinetic (PBK) modelling\"</b>. \\n\\nThis PBK model predicts the biodistribution of PFOA, PFHpA, PFNA, PFHxS or PFBS in female zebrafish (D.rerio), via waterborne exposure. The main elimination route considered by the model is the excretion through the gills and to a shorter extent via spawning of eggs. A detailed description of the model is provided in [Golosovskaia et al., 2024](https://doi.org/10.1016/j.scitotenv.2023.168738).\\n\\nThe input variables of the model are: \\n<ul>\\n  <li>BW: the body weight of zebrafish,</li>\\n  <li>substance: PFOA, PFHpA, PFNA, PFHxS or PFBS ,</li>\\n  <li>WaterExposure: the exposure concentration in water,</li>\\n  <li>time_of_exposure: time points at which the concentration of the substance into the water changes</li>\\n  <li>V_water: the volume of water of the fish environment.\\n</ul>\\n\\nThe input parameters <b>WaterExposure</b> and <b>time_of_exposure</b> should be considered as vectors. For example, let\\'s consider that the concentration of PFOA (WaterExposure) is 10 μg/mL at the beginning of the simulation (time_of_exposure=0) and for the next 2 hours no extra PFOA is added in the water. Now consider that at exactly at 2 hours from the beginning of the experiment the concentration of PFOA is changed to 50 μg/mL. In order to model this change of the PFOA concentration in water, the <b>WaterExposure</b> and <b>time_of_exposure</b> should be defined by the user as [10,50] and [0,2], respectively.\\n\\nThe R code of the model and the code to upload the model on Jaqpot are uploaded on https://github.com/ntua-unit-of-control-and-informatics/PFAS_PBK_models, which contains multiple published PBK models for PFAS and various organisms. The code included in this repo is a modified version the the original code reported by the authors of the paper, reported at [https://github.com/Feesterra/PBKMix_PFAS].\\n\\n', creator=None, type=<ModelType.R_PBPK: 'R_PBPK'>, dependent_features_length=39, independent_features_length=9, shared_with_organizations=[OrganizationSummary(id=4, name='SCENARIOS')], created_at=datetime.datetime(2024, 2, 18, 22, 0, tzinfo=TzInfo(UTC)), updated_at=datetime.datetime(2024, 9, 9, 11, 53, 58, 825474, tzinfo=TzInfo(UTC))), ModelSummary(id=1815, name='Viability Prediction model', visibility=<ModelVisibility.ORG_SHARED: 'ORG_SHARED'>, description=\"Machine Learning model for predicting the cell viability %. This model is based on the work of Daina Romeo et. al (2022): https://doi.org/10.1016/j.impact.2022.100436. \\n\\nThe dataset used in this study consists of 591 instances which were randomly split into train and test with an 80-20 ratio. The model inputs include the following Features: Substance, Functionalization, Size Class, Layer, Time, Media, Assay, Cell_Type_General, Cell_Type and Species. The machine learning algorithm employed is a Multilayer Perceptron (MLP) with a single hidden layer consisting of 30 hidden units.\\n\\nThe model's performance was evaluated using multiple metrics:\\n\\n* Coefficient of Determination (R²) on the training set: 0.85\\n* Q² from 10-fold cross-validation: 0.78\\n* Coefficient of Determination (R²) on the test set: 0.80\", creator=None, type=<ModelType.SKLEARN: 'SKLEARN'>, dependent_features_length=1, independent_features_length=26, shared_with_organizations=[OrganizationSummary(id=5, name='INSIGHT')], created_at=datetime.datetime(2024, 9, 19, 7, 13, 15, 578331, tzinfo=TzInfo(UTC)), updated_at=datetime.datetime(2024, 9, 19, 7, 41, 34, 211142, tzinfo=TzInfo(UTC))), ModelSummary(id=1841, name='Graph Attention Network for ReadyBiodegradability Classification', visibility=<ModelVisibility.ORG_SHARED: 'ORG_SHARED'>, description='Data Sources: https://zenodo.org/records/3540701, https://zenodo.org/records/8255910. \\\\\\nThe total data (6,849) were split into train-validation-test with a 80-10-10 while keeping the same class balance. \\\\\\nA Graph Neural Network (GAT) using both node and edge attributes was used to train the model and evaluate it on the validation set. Hyperparameter tuning was implemented to obtain the best possible validation loss score. \\\\\\nThe final model has a Balanced Accuracy score of 0.86 and ROC-AUC score of 0.92 in the test set. ', creator=None, type=<ModelType.TORCHSCRIPT: 'TORCHSCRIPT'>, dependent_features_length=1, independent_features_length=1, shared_with_organizations=[OrganizationSummary(id=3, name='PINK')], created_at=datetime.datetime(2024, 10, 3, 8, 54, 4, 747459, tzinfo=TzInfo(UTC)), updated_at=datetime.datetime(2024, 10, 3, 9, 20, 17, 973136, tzinfo=TzInfo(UTC)))], total_elements=7, total_pages=1, page_size=10, page_number=0) raw_data=b'{\"content\":[{\"id\":1703,\"name\":\"PPAR-alpha QSAR\",\"visibility\":\"ORG_SHARED\",\"type\":\"R_CARET\",\"sharedWithOrganizations\":[{\"id\":4,\"name\":\"SCENARIOS\"}],\"createdAt\":\"2023-07-21T21:00:00Z\",\"description\":\"**THIS MODEL IS STILL UNDER DEVELOPMENT**\\\\n\\\\nThis model was developed using experimental data on PPaR-\\xce\\xb1 induction generated in the SCENARIOS project. The quantitative structure-activity (QSAR) model predicts the induction of the receptor on different concentration levels. The model used as input the concentration level, the physicochemical characteristics of the tested PFAS determined through computational descriptors and binding energy scores estimated using in silico tools in SCENARIOS. The model yielded cross-validation R2 score of 0.80 and 0.91 in the test set. The binding energy estimate was one of the most important features, which highlights the significance of utilizing in silico tools to interpret results obtained from experimental procedure and to develop composite computational descriptors in predictive modelling.\",\"creator\":null,\"dependentFeaturesLength\":1,\"independentFeaturesLength\":7,\"updatedAt\":\"2024-09-02T10:37:36.639575Z\"},{\"id\":1704,\"name\":\"PFAS Cytotoxicity QSAR\",\"visibility\":\"ORG_SHARED\",\"type\":\"R_CARET\",\"sharedWithOrganizations\":[{\"id\":4,\"name\":\"SCENARIOS\"}],\"createdAt\":\"2023-07-22T21:00:00Z\",\"description\":\"\\\\n**THIS MODEL IS STILL UNDER DEVELOPMENT**\\\\n\\\\nThis model was developed using experimental data generated in the SCENARIOS project. The quantitative structure-activity (QSAR) model predicts the cell vaibility after exposure to different concentration levels of PFAS in four different cell lines: HepaRG (liver), HEK293 (kidney),PBMC(blood), and A549 (lungs). Based on these results, an XGBoost model was developed using computational descriptors as well as experimental descriptors like exposure duration, assay type, albumin concentration and ionic strength of the medium. The final model yielded cross-validation R2 score of 0.72 and 0.75 in the test set.\\\\n\\\\n\\\\n\\\\n## How to produce the descriptors from SMILES\\\\n\\\\n* Retrive PFAS SMILES from [here](https://github.com/ntua-unit-of-control-and-informatics/QSAR_PFAS/blob/main/Clustering/Chemical%20List%20PFASSTRUCTV5-2022-12-16.csv)\\\\n* Follow this [link](https://colab.research.google.com/drive/1AdlR-iaYAu4OSXzLf-jgyUZrbyQrl_-s?usp=sharing) to go to a google colab environment, provide an xlsx file containing the SMILES of the substances\\\\n\\\\nTODO: insert QMRF report\",\"creator\":null,\"dependentFeaturesLength\":1,\"independentFeaturesLength\":10,\"updatedAt\":\"2024-09-09T11:47:04.786061Z\"},{\"id\":1690,\"name\":\"Uptake and Elimination of PFAS in D.magna\",\"visibility\":\"ORG_SHARED\",\"type\":\"R_PBPK\",\"sharedWithOrganizations\":[{\"id\":4,\"name\":\"SCENARIOS\"}],\"createdAt\":\"2023-05-28T21:00:00Z\",\"description\":\"\\\\n**THIS MODEL IS STILL UNDER DEVELOPMENT**\\\\n\\\\n# Biokinetics model for uptake and elimination of PFAS in D.magna\\\\n\\\\n The present model has been developed using the data reported in [Wang et al., 2023](https://doi.org/10.1021/acs.est.2c07631) for describing the accumulation of 13 PFAS congener4s in D.magna after water exposure. The structural model considered is presented in the figure below. In short, a two-compartment model is considered, with one compartment being unbound PFAS and the other PFAS bound in proteins/apolipoproteins.  <br> </br>\\\\nUsing this web service, the user can run in silico experiments and witness changes in the accumulation of several PFAS in D.magna. The description and units of the state variables and independent model features can be found in the \\'Features\\' tab. The parameter `PFAS` is used to select one of the available PFAS included in the model: PFBA, F-53B, GenX, PFBS, PFDA, PFDoA, PFHpA, PFHxA, PFNA, PFOA, PFOS, PFPeA, PFUnA. The user can also set the water temperature (`temperature `) within the 15-25 oC range, the initial age of the organism exposed to PFAS (`init_age`), with 1 as the lowest possible value, the water concentration (`Cwater`) and the food level (`food`). The latter parameter is used to incorporate the impact of food availability in the weight prediction, with two options: \\'H\\' for high food, which is around 6*10^5 cells/mL, and \\'L\\' for low food, which is around 10^5 cells/mL. \\\\nThe R code used to deploy the model on Jaqpot can be found in UPCI\\'s [GitHub Repository](https://github.com/ntua-unit-of-control-and-informatics/PFAS_biokinetics_models/tree/main/D.Magna/Wang_2023). \\\\n<br> </br>\\\\n![](https://raw.githubusercontent.com/periklis91/images/master/PFAS_Dmagna.png \\\\\"structural model representation\\\\\")\\\\n\\\\n<br> </br>\\\\n\",\"creator\":null,\"dependentFeaturesLength\":6,\"independentFeaturesLength\":8,\"updatedAt\":\"2024-09-09T11:56:55.157072Z\"},{\"id\":1776,\"name\":\"QSAR PFAS-Albumin\",\"visibility\":\"ORG_SHARED\",\"type\":\"R_CARET\",\"sharedWithOrganizations\":[{\"id\":4,\"name\":\"SCENARIOS\"}],\"createdAt\":\"2024-05-20T21:00:00Z\",\"description\":\"This model predicts the log Ka (binding affinity constant) of different PFAS congeners to albumin. The model was developed using a novel dataset compiled from literature sources. For categorical variables, the user should select one of the levels presented below. For continuous variables, the user is encouraged to use a value within the limits presented below:\\\\n\\\\n\\\\nLevels (categorical variables) and ranges (continuous variables)\\\\n\\\\nModel: Other/ Scatchard equation \\\\\\\\\\\\nMethod: 19F NMR Titration / DSF / Equilibrium dialysis/ ESI-MS/ fluorescence quenching / Isothermal Titration Calorimetry / Microdesalting Column Separation / ultrafiltration centrifugation \\\\\\\\\\\\nAlbumin Source: Bos taurus / Homo sapiens / Rattus norvegicus / Sus scrofa domesticus \\\\\\\\\\\\nAlbumin concentration range: 2e-07 - 6e+02 [uM] \\\\\\\\\\\\nWlambda1.unity range: 0.66 - 1.66 \\\\\\\\\\\\nTemperature: 294 320 [K]\\\\\\\\\\\\nMolecular Weight: 214 - 714 [g/mol] \\\\\\\\\\\\nMax.Ligand-Protein.concentration : 2e-03 - 5e+04 \",\"creator\":null,\"dependentFeaturesLength\":1,\"independentFeaturesLength\":8,\"updatedAt\":\"2024-09-09T11:52:06.237592Z\"},{\"id\":1729,\"name\":\"PFAS PBK Model for Zebrafish (Danio rerio)\",\"visibility\":\"ORG_SHARED\",\"type\":\"R_PBPK\",\"sharedWithOrganizations\":[{\"id\":4,\"name\":\"SCENARIOS\"}],\"createdAt\":\"2024-02-18T22:00:00Z\",\"description\":\"The model of this application is a deployment of the model published by [Golosovskaia et al., 2024](https://doi.org/10.1016/j.scitotenv.2023.168738) in the paper titled as <b>\\\\\"Studying mixture effects on uptake and tissue distribution of PFAS in zebrafish (Danio rerio) using physiologically based kinetic (PBK) modelling\\\\\"</b>. \\\\n\\\\nThis PBK model predicts the biodistribution of PFOA, PFHpA, PFNA, PFHxS or PFBS in female zebrafish (D.rerio), via waterborne exposure. The main elimination route considered by the model is the excretion through the gills and to a shorter extent via spawning of eggs. A detailed description of the model is provided in [Golosovskaia et al., 2024](https://doi.org/10.1016/j.scitotenv.2023.168738).\\\\n\\\\nThe input variables of the model are: \\\\n<ul>\\\\n  <li>BW: the body weight of zebrafish,</li>\\\\n  <li>substance: PFOA, PFHpA, PFNA, PFHxS or PFBS ,</li>\\\\n  <li>WaterExposure: the exposure concentration in water,</li>\\\\n  <li>time_of_exposure: time points at which the concentration of the substance into the water changes</li>\\\\n  <li>V_water: the volume of water of the fish environment.\\\\n</ul>\\\\n\\\\nThe input parameters <b>WaterExposure</b> and <b>time_of_exposure</b> should be considered as vectors. For example, let\\'s consider that the concentration of PFOA (WaterExposure) is 10 \\xce\\xbcg/mL at the beginning of the simulation (time_of_exposure=0) and for the next 2 hours no extra PFOA is added in the water. Now consider that at exactly at 2 hours from the beginning of the experiment the concentration of PFOA is changed to 50 \\xce\\xbcg/mL. In order to model this change of the PFOA concentration in water, the <b>WaterExposure</b> and <b>time_of_exposure</b> should be defined by the user as [10,50] and [0,2], respectively.\\\\n\\\\nThe R code of the model and the code to upload the model on Jaqpot are uploaded on https://github.com/ntua-unit-of-control-and-informatics/PFAS_PBK_models, which contains multiple published PBK models for PFAS and various organisms. The code included in this repo is a modified version the the original code reported by the authors of the paper, reported at [https://github.com/Feesterra/PBKMix_PFAS].\\\\n\\\\n\",\"creator\":null,\"dependentFeaturesLength\":39,\"independentFeaturesLength\":9,\"updatedAt\":\"2024-09-09T11:53:58.825474Z\"},{\"id\":1815,\"name\":\"Viability Prediction model\",\"visibility\":\"ORG_SHARED\",\"type\":\"SKLEARN\",\"sharedWithOrganizations\":[{\"id\":5,\"name\":\"INSIGHT\"}],\"createdAt\":\"2024-09-19T07:13:15.578331Z\",\"description\":\"Machine Learning model for predicting the cell viability %. This model is based on the work of Daina Romeo et. al (2022): https://doi.org/10.1016/j.impact.2022.100436. \\\\n\\\\nThe dataset used in this study consists of 591 instances which were randomly split into train and test with an 80-20 ratio. The model inputs include the following Features: Substance, Functionalization, Size Class, Layer, Time, Media, Assay, Cell_Type_General, Cell_Type and Species. The machine learning algorithm employed is a Multilayer Perceptron (MLP) with a single hidden layer consisting of 30 hidden units.\\\\n\\\\nThe model\\'s performance was evaluated using multiple metrics:\\\\n\\\\n* Coefficient of Determination (R\\xc2\\xb2) on the training set: 0.85\\\\n* Q\\xc2\\xb2 from 10-fold cross-validation: 0.78\\\\n* Coefficient of Determination (R\\xc2\\xb2) on the test set: 0.80\",\"creator\":null,\"dependentFeaturesLength\":1,\"independentFeaturesLength\":26,\"updatedAt\":\"2024-09-19T07:41:34.211142Z\"},{\"id\":1841,\"name\":\"Graph Attention Network for ReadyBiodegradability Classification\",\"visibility\":\"ORG_SHARED\",\"type\":\"TORCHSCRIPT\",\"sharedWithOrganizations\":[{\"id\":3,\"name\":\"PINK\"}],\"createdAt\":\"2024-10-03T08:54:04.747459Z\",\"description\":\"Data Sources: https://zenodo.org/records/3540701, https://zenodo.org/records/8255910. \\\\\\\\\\\\nThe total data (6,849) were split into train-validation-test with a 80-10-10 while keeping the same class balance. \\\\\\\\\\\\nA Graph Neural Network (GAT) using both node and edge attributes was used to train the model and evaluate it on the validation set. Hyperparameter tuning was implemented to obtain the best possible validation loss score. \\\\\\\\\\\\nThe final model has a Balanced Accuracy score of 0.86 and ROC-AUC score of 0.92 in the test set. \",\"creator\":null,\"dependentFeaturesLength\":1,\"independentFeaturesLength\":1,\"updatedAt\":\"2024-10-03T09:20:17.973136Z\"}],\"totalElements\":7,\"totalPages\":1,\"pageSize\":10,\"pageNumber\":0}'\n"
     ]
    }
   ],
   "source": [
    "shared_models = jaqpot.get_shared_models()\n",
    "print(shared_models)"
   ]
  },
  {
   "cell_type": "markdown",
   "id": "f0df023c-07e4-43cd-a0a9-f8b78d2f6e01",
   "metadata": {
    "tags": []
   },
   "source": [
    "# Get all models that are shared with SCENARIOS"
   ]
  },
  {
   "cell_type": "code",
   "execution_count": 6,
   "id": "046d9f72-e62f-433d-bb9e-5e141dd089e4",
   "metadata": {
    "tags": []
   },
   "outputs": [
    {
     "name": "stdout",
     "output_type": "stream",
     "text": [
      "status_code=200 headers={'Date': 'Tue, 08 Oct 2024 07:30:25 GMT', 'Content-Type': 'application/json', 'Transfer-Encoding': 'chunked', 'Connection': 'keep-alive', 'Vary': 'Access-Control-Request-Headers', 'X-Content-Type-Options': 'nosniff', 'X-XSS-Protection': '0', 'Cache-Control': 'no-cache, no-store, max-age=0, must-revalidate', 'Pragma': 'no-cache', 'Expires': '0', 'Strict-Transport-Security': 'max-age=31536000 ; includeSubDomains', 'X-Frame-Options': 'DENY'} data=GetModels200Response(content=[ModelSummary(id=1703, name='PPAR-alpha QSAR', visibility=<ModelVisibility.ORG_SHARED: 'ORG_SHARED'>, description='**THIS MODEL IS STILL UNDER DEVELOPMENT**\\n\\nThis model was developed using experimental data on PPaR-α induction generated in the SCENARIOS project. The quantitative structure-activity (QSAR) model predicts the induction of the receptor on different concentration levels. The model used as input the concentration level, the physicochemical characteristics of the tested PFAS determined through computational descriptors and binding energy scores estimated using in silico tools in SCENARIOS. The model yielded cross-validation R2 score of 0.80 and 0.91 in the test set. The binding energy estimate was one of the most important features, which highlights the significance of utilizing in silico tools to interpret results obtained from experimental procedure and to develop composite computational descriptors in predictive modelling.', creator=None, type=<ModelType.R_CARET: 'R_CARET'>, dependent_features_length=1, independent_features_length=7, shared_with_organizations=[OrganizationSummary(id=4, name='SCENARIOS')], created_at=datetime.datetime(2023, 7, 21, 21, 0, tzinfo=TzInfo(UTC)), updated_at=datetime.datetime(2024, 9, 2, 10, 37, 36, 639575, tzinfo=TzInfo(UTC))), ModelSummary(id=1704, name='PFAS Cytotoxicity QSAR', visibility=<ModelVisibility.ORG_SHARED: 'ORG_SHARED'>, description='\\n**THIS MODEL IS STILL UNDER DEVELOPMENT**\\n\\nThis model was developed using experimental data generated in the SCENARIOS project. The quantitative structure-activity (QSAR) model predicts the cell vaibility after exposure to different concentration levels of PFAS in four different cell lines: HepaRG (liver), HEK293 (kidney),PBMC(blood), and A549 (lungs). Based on these results, an XGBoost model was developed using computational descriptors as well as experimental descriptors like exposure duration, assay type, albumin concentration and ionic strength of the medium. The final model yielded cross-validation R2 score of 0.72 and 0.75 in the test set.\\n\\n\\n\\n## How to produce the descriptors from SMILES\\n\\n* Retrive PFAS SMILES from [here](https://github.com/ntua-unit-of-control-and-informatics/QSAR_PFAS/blob/main/Clustering/Chemical%20List%20PFASSTRUCTV5-2022-12-16.csv)\\n* Follow this [link](https://colab.research.google.com/drive/1AdlR-iaYAu4OSXzLf-jgyUZrbyQrl_-s?usp=sharing) to go to a google colab environment, provide an xlsx file containing the SMILES of the substances\\n\\nTODO: insert QMRF report', creator=None, type=<ModelType.R_CARET: 'R_CARET'>, dependent_features_length=1, independent_features_length=10, shared_with_organizations=[OrganizationSummary(id=4, name='SCENARIOS')], created_at=datetime.datetime(2023, 7, 22, 21, 0, tzinfo=TzInfo(UTC)), updated_at=datetime.datetime(2024, 9, 9, 11, 47, 4, 786061, tzinfo=TzInfo(UTC))), ModelSummary(id=1690, name='Uptake and Elimination of PFAS in D.magna', visibility=<ModelVisibility.ORG_SHARED: 'ORG_SHARED'>, description='\\n**THIS MODEL IS STILL UNDER DEVELOPMENT**\\n\\n# Biokinetics model for uptake and elimination of PFAS in D.magna\\n\\n The present model has been developed using the data reported in [Wang et al., 2023](https://doi.org/10.1021/acs.est.2c07631) for describing the accumulation of 13 PFAS congener4s in D.magna after water exposure. The structural model considered is presented in the figure below. In short, a two-compartment model is considered, with one compartment being unbound PFAS and the other PFAS bound in proteins/apolipoproteins.  <br> </br>\\nUsing this web service, the user can run in silico experiments and witness changes in the accumulation of several PFAS in D.magna. The description and units of the state variables and independent model features can be found in the \\'Features\\' tab. The parameter `PFAS` is used to select one of the available PFAS included in the model: PFBA, F-53B, GenX, PFBS, PFDA, PFDoA, PFHpA, PFHxA, PFNA, PFOA, PFOS, PFPeA, PFUnA. The user can also set the water temperature (`temperature `) within the 15-25 oC range, the initial age of the organism exposed to PFAS (`init_age`), with 1 as the lowest possible value, the water concentration (`Cwater`) and the food level (`food`). The latter parameter is used to incorporate the impact of food availability in the weight prediction, with two options: \\'H\\' for high food, which is around 6*10^5 cells/mL, and \\'L\\' for low food, which is around 10^5 cells/mL. \\nThe R code used to deploy the model on Jaqpot can be found in UPCI\\'s [GitHub Repository](https://github.com/ntua-unit-of-control-and-informatics/PFAS_biokinetics_models/tree/main/D.Magna/Wang_2023). \\n<br> </br>\\n![](https://raw.githubusercontent.com/periklis91/images/master/PFAS_Dmagna.png \"structural model representation\")\\n\\n<br> </br>\\n', creator=None, type=<ModelType.R_PBPK: 'R_PBPK'>, dependent_features_length=6, independent_features_length=8, shared_with_organizations=[OrganizationSummary(id=4, name='SCENARIOS')], created_at=datetime.datetime(2023, 5, 28, 21, 0, tzinfo=TzInfo(UTC)), updated_at=datetime.datetime(2024, 9, 9, 11, 56, 55, 157072, tzinfo=TzInfo(UTC))), ModelSummary(id=1776, name='QSAR PFAS-Albumin', visibility=<ModelVisibility.ORG_SHARED: 'ORG_SHARED'>, description='This model predicts the log Ka (binding affinity constant) of different PFAS congeners to albumin. The model was developed using a novel dataset compiled from literature sources. For categorical variables, the user should select one of the levels presented below. For continuous variables, the user is encouraged to use a value within the limits presented below:\\n\\n\\nLevels (categorical variables) and ranges (continuous variables)\\n\\nModel: Other/ Scatchard equation \\\\\\nMethod: 19F NMR Titration / DSF / Equilibrium dialysis/ ESI-MS/ fluorescence quenching / Isothermal Titration Calorimetry / Microdesalting Column Separation / ultrafiltration centrifugation \\\\\\nAlbumin Source: Bos taurus / Homo sapiens / Rattus norvegicus / Sus scrofa domesticus \\\\\\nAlbumin concentration range: 2e-07 - 6e+02 [uM] \\\\\\nWlambda1.unity range: 0.66 - 1.66 \\\\\\nTemperature: 294 320 [K]\\\\\\nMolecular Weight: 214 - 714 [g/mol] \\\\\\nMax.Ligand-Protein.concentration : 2e-03 - 5e+04 ', creator=None, type=<ModelType.R_CARET: 'R_CARET'>, dependent_features_length=1, independent_features_length=8, shared_with_organizations=[OrganizationSummary(id=4, name='SCENARIOS')], created_at=datetime.datetime(2024, 5, 20, 21, 0, tzinfo=TzInfo(UTC)), updated_at=datetime.datetime(2024, 9, 9, 11, 52, 6, 237592, tzinfo=TzInfo(UTC))), ModelSummary(id=1729, name='PFAS PBK Model for Zebrafish (Danio rerio)', visibility=<ModelVisibility.ORG_SHARED: 'ORG_SHARED'>, description='The model of this application is a deployment of the model published by [Golosovskaia et al., 2024](https://doi.org/10.1016/j.scitotenv.2023.168738) in the paper titled as <b>\"Studying mixture effects on uptake and tissue distribution of PFAS in zebrafish (Danio rerio) using physiologically based kinetic (PBK) modelling\"</b>. \\n\\nThis PBK model predicts the biodistribution of PFOA, PFHpA, PFNA, PFHxS or PFBS in female zebrafish (D.rerio), via waterborne exposure. The main elimination route considered by the model is the excretion through the gills and to a shorter extent via spawning of eggs. A detailed description of the model is provided in [Golosovskaia et al., 2024](https://doi.org/10.1016/j.scitotenv.2023.168738).\\n\\nThe input variables of the model are: \\n<ul>\\n  <li>BW: the body weight of zebrafish,</li>\\n  <li>substance: PFOA, PFHpA, PFNA, PFHxS or PFBS ,</li>\\n  <li>WaterExposure: the exposure concentration in water,</li>\\n  <li>time_of_exposure: time points at which the concentration of the substance into the water changes</li>\\n  <li>V_water: the volume of water of the fish environment.\\n</ul>\\n\\nThe input parameters <b>WaterExposure</b> and <b>time_of_exposure</b> should be considered as vectors. For example, let\\'s consider that the concentration of PFOA (WaterExposure) is 10 μg/mL at the beginning of the simulation (time_of_exposure=0) and for the next 2 hours no extra PFOA is added in the water. Now consider that at exactly at 2 hours from the beginning of the experiment the concentration of PFOA is changed to 50 μg/mL. In order to model this change of the PFOA concentration in water, the <b>WaterExposure</b> and <b>time_of_exposure</b> should be defined by the user as [10,50] and [0,2], respectively.\\n\\nThe R code of the model and the code to upload the model on Jaqpot are uploaded on https://github.com/ntua-unit-of-control-and-informatics/PFAS_PBK_models, which contains multiple published PBK models for PFAS and various organisms. The code included in this repo is a modified version the the original code reported by the authors of the paper, reported at [https://github.com/Feesterra/PBKMix_PFAS].\\n\\n', creator=None, type=<ModelType.R_PBPK: 'R_PBPK'>, dependent_features_length=39, independent_features_length=9, shared_with_organizations=[OrganizationSummary(id=4, name='SCENARIOS')], created_at=datetime.datetime(2024, 2, 18, 22, 0, tzinfo=TzInfo(UTC)), updated_at=datetime.datetime(2024, 9, 9, 11, 53, 58, 825474, tzinfo=TzInfo(UTC)))], total_elements=5, total_pages=1, page_size=10, page_number=0) raw_data=b'{\"content\":[{\"id\":1703,\"name\":\"PPAR-alpha QSAR\",\"visibility\":\"ORG_SHARED\",\"type\":\"R_CARET\",\"sharedWithOrganizations\":[{\"id\":4,\"name\":\"SCENARIOS\"}],\"createdAt\":\"2023-07-21T21:00:00Z\",\"description\":\"**THIS MODEL IS STILL UNDER DEVELOPMENT**\\\\n\\\\nThis model was developed using experimental data on PPaR-\\xce\\xb1 induction generated in the SCENARIOS project. The quantitative structure-activity (QSAR) model predicts the induction of the receptor on different concentration levels. The model used as input the concentration level, the physicochemical characteristics of the tested PFAS determined through computational descriptors and binding energy scores estimated using in silico tools in SCENARIOS. The model yielded cross-validation R2 score of 0.80 and 0.91 in the test set. The binding energy estimate was one of the most important features, which highlights the significance of utilizing in silico tools to interpret results obtained from experimental procedure and to develop composite computational descriptors in predictive modelling.\",\"creator\":null,\"dependentFeaturesLength\":1,\"independentFeaturesLength\":7,\"updatedAt\":\"2024-09-02T10:37:36.639575Z\"},{\"id\":1704,\"name\":\"PFAS Cytotoxicity QSAR\",\"visibility\":\"ORG_SHARED\",\"type\":\"R_CARET\",\"sharedWithOrganizations\":[{\"id\":4,\"name\":\"SCENARIOS\"}],\"createdAt\":\"2023-07-22T21:00:00Z\",\"description\":\"\\\\n**THIS MODEL IS STILL UNDER DEVELOPMENT**\\\\n\\\\nThis model was developed using experimental data generated in the SCENARIOS project. The quantitative structure-activity (QSAR) model predicts the cell vaibility after exposure to different concentration levels of PFAS in four different cell lines: HepaRG (liver), HEK293 (kidney),PBMC(blood), and A549 (lungs). Based on these results, an XGBoost model was developed using computational descriptors as well as experimental descriptors like exposure duration, assay type, albumin concentration and ionic strength of the medium. The final model yielded cross-validation R2 score of 0.72 and 0.75 in the test set.\\\\n\\\\n\\\\n\\\\n## How to produce the descriptors from SMILES\\\\n\\\\n* Retrive PFAS SMILES from [here](https://github.com/ntua-unit-of-control-and-informatics/QSAR_PFAS/blob/main/Clustering/Chemical%20List%20PFASSTRUCTV5-2022-12-16.csv)\\\\n* Follow this [link](https://colab.research.google.com/drive/1AdlR-iaYAu4OSXzLf-jgyUZrbyQrl_-s?usp=sharing) to go to a google colab environment, provide an xlsx file containing the SMILES of the substances\\\\n\\\\nTODO: insert QMRF report\",\"creator\":null,\"dependentFeaturesLength\":1,\"independentFeaturesLength\":10,\"updatedAt\":\"2024-09-09T11:47:04.786061Z\"},{\"id\":1690,\"name\":\"Uptake and Elimination of PFAS in D.magna\",\"visibility\":\"ORG_SHARED\",\"type\":\"R_PBPK\",\"sharedWithOrganizations\":[{\"id\":4,\"name\":\"SCENARIOS\"}],\"createdAt\":\"2023-05-28T21:00:00Z\",\"description\":\"\\\\n**THIS MODEL IS STILL UNDER DEVELOPMENT**\\\\n\\\\n# Biokinetics model for uptake and elimination of PFAS in D.magna\\\\n\\\\n The present model has been developed using the data reported in [Wang et al., 2023](https://doi.org/10.1021/acs.est.2c07631) for describing the accumulation of 13 PFAS congener4s in D.magna after water exposure. The structural model considered is presented in the figure below. In short, a two-compartment model is considered, with one compartment being unbound PFAS and the other PFAS bound in proteins/apolipoproteins.  <br> </br>\\\\nUsing this web service, the user can run in silico experiments and witness changes in the accumulation of several PFAS in D.magna. The description and units of the state variables and independent model features can be found in the \\'Features\\' tab. The parameter `PFAS` is used to select one of the available PFAS included in the model: PFBA, F-53B, GenX, PFBS, PFDA, PFDoA, PFHpA, PFHxA, PFNA, PFOA, PFOS, PFPeA, PFUnA. The user can also set the water temperature (`temperature `) within the 15-25 oC range, the initial age of the organism exposed to PFAS (`init_age`), with 1 as the lowest possible value, the water concentration (`Cwater`) and the food level (`food`). The latter parameter is used to incorporate the impact of food availability in the weight prediction, with two options: \\'H\\' for high food, which is around 6*10^5 cells/mL, and \\'L\\' for low food, which is around 10^5 cells/mL. \\\\nThe R code used to deploy the model on Jaqpot can be found in UPCI\\'s [GitHub Repository](https://github.com/ntua-unit-of-control-and-informatics/PFAS_biokinetics_models/tree/main/D.Magna/Wang_2023). \\\\n<br> </br>\\\\n![](https://raw.githubusercontent.com/periklis91/images/master/PFAS_Dmagna.png \\\\\"structural model representation\\\\\")\\\\n\\\\n<br> </br>\\\\n\",\"creator\":null,\"dependentFeaturesLength\":6,\"independentFeaturesLength\":8,\"updatedAt\":\"2024-09-09T11:56:55.157072Z\"},{\"id\":1776,\"name\":\"QSAR PFAS-Albumin\",\"visibility\":\"ORG_SHARED\",\"type\":\"R_CARET\",\"sharedWithOrganizations\":[{\"id\":4,\"name\":\"SCENARIOS\"}],\"createdAt\":\"2024-05-20T21:00:00Z\",\"description\":\"This model predicts the log Ka (binding affinity constant) of different PFAS congeners to albumin. The model was developed using a novel dataset compiled from literature sources. For categorical variables, the user should select one of the levels presented below. For continuous variables, the user is encouraged to use a value within the limits presented below:\\\\n\\\\n\\\\nLevels (categorical variables) and ranges (continuous variables)\\\\n\\\\nModel: Other/ Scatchard equation \\\\\\\\\\\\nMethod: 19F NMR Titration / DSF / Equilibrium dialysis/ ESI-MS/ fluorescence quenching / Isothermal Titration Calorimetry / Microdesalting Column Separation / ultrafiltration centrifugation \\\\\\\\\\\\nAlbumin Source: Bos taurus / Homo sapiens / Rattus norvegicus / Sus scrofa domesticus \\\\\\\\\\\\nAlbumin concentration range: 2e-07 - 6e+02 [uM] \\\\\\\\\\\\nWlambda1.unity range: 0.66 - 1.66 \\\\\\\\\\\\nTemperature: 294 320 [K]\\\\\\\\\\\\nMolecular Weight: 214 - 714 [g/mol] \\\\\\\\\\\\nMax.Ligand-Protein.concentration : 2e-03 - 5e+04 \",\"creator\":null,\"dependentFeaturesLength\":1,\"independentFeaturesLength\":8,\"updatedAt\":\"2024-09-09T11:52:06.237592Z\"},{\"id\":1729,\"name\":\"PFAS PBK Model for Zebrafish (Danio rerio)\",\"visibility\":\"ORG_SHARED\",\"type\":\"R_PBPK\",\"sharedWithOrganizations\":[{\"id\":4,\"name\":\"SCENARIOS\"}],\"createdAt\":\"2024-02-18T22:00:00Z\",\"description\":\"The model of this application is a deployment of the model published by [Golosovskaia et al., 2024](https://doi.org/10.1016/j.scitotenv.2023.168738) in the paper titled as <b>\\\\\"Studying mixture effects on uptake and tissue distribution of PFAS in zebrafish (Danio rerio) using physiologically based kinetic (PBK) modelling\\\\\"</b>. \\\\n\\\\nThis PBK model predicts the biodistribution of PFOA, PFHpA, PFNA, PFHxS or PFBS in female zebrafish (D.rerio), via waterborne exposure. The main elimination route considered by the model is the excretion through the gills and to a shorter extent via spawning of eggs. A detailed description of the model is provided in [Golosovskaia et al., 2024](https://doi.org/10.1016/j.scitotenv.2023.168738).\\\\n\\\\nThe input variables of the model are: \\\\n<ul>\\\\n  <li>BW: the body weight of zebrafish,</li>\\\\n  <li>substance: PFOA, PFHpA, PFNA, PFHxS or PFBS ,</li>\\\\n  <li>WaterExposure: the exposure concentration in water,</li>\\\\n  <li>time_of_exposure: time points at which the concentration of the substance into the water changes</li>\\\\n  <li>V_water: the volume of water of the fish environment.\\\\n</ul>\\\\n\\\\nThe input parameters <b>WaterExposure</b> and <b>time_of_exposure</b> should be considered as vectors. For example, let\\'s consider that the concentration of PFOA (WaterExposure) is 10 \\xce\\xbcg/mL at the beginning of the simulation (time_of_exposure=0) and for the next 2 hours no extra PFOA is added in the water. Now consider that at exactly at 2 hours from the beginning of the experiment the concentration of PFOA is changed to 50 \\xce\\xbcg/mL. In order to model this change of the PFOA concentration in water, the <b>WaterExposure</b> and <b>time_of_exposure</b> should be defined by the user as [10,50] and [0,2], respectively.\\\\n\\\\nThe R code of the model and the code to upload the model on Jaqpot are uploaded on https://github.com/ntua-unit-of-control-and-informatics/PFAS_PBK_models, which contains multiple published PBK models for PFAS and various organisms. The code included in this repo is a modified version the the original code reported by the authors of the paper, reported at [https://github.com/Feesterra/PBKMix_PFAS].\\\\n\\\\n\",\"creator\":null,\"dependentFeaturesLength\":39,\"independentFeaturesLength\":9,\"updatedAt\":\"2024-09-09T11:53:58.825474Z\"}],\"totalElements\":5,\"totalPages\":1,\"pageSize\":10,\"pageNumber\":0}'\n"
     ]
    }
   ],
   "source": [
    "shared_models = jaqpot.get_shared_models(organization_id=4)\n",
    "print(shared_models)"
   ]
  },
  {
   "cell_type": "markdown",
   "id": "602ee043-106a-40a2-b6b2-f73c22c157c0",
   "metadata": {},
   "source": [
    "# Get a model by id"
   ]
  },
  {
   "cell_type": "code",
   "execution_count": 7,
   "id": "2b3bf21e-882a-4507-98f9-faba6a7c9284",
   "metadata": {
    "tags": []
   },
   "outputs": [
    {
     "name": "stdout",
     "output_type": "stream",
     "text": [
      "{'id': 1812, 'name': 'DEMO: Single Output regression model', 'description': 'featurizer: TopologicalFingerprint, preprocessing_x: StandardScaler, preprocessing_y: StandardScaler', 'type': <ModelType.SKLEARN: 'SKLEARN'>, 'jaqpotpyVersion': '{{VERSION_PLACEHOLDER}}', 'libraries': [{'id': 2805, 'name': 'annotated-types', 'version': '0.7.0', 'createdAt': datetime.datetime(2024, 9, 18, 12, 6, 10, 309450, tzinfo=TzInfo(UTC)), 'updatedAt': datetime.datetime(2024, 9, 18, 12, 6, 10, 309454, tzinfo=TzInfo(UTC))}, {'id': 2806, 'name': 'anyio', 'version': '4.4.0', 'createdAt': datetime.datetime(2024, 9, 18, 12, 6, 10, 311104, tzinfo=TzInfo(UTC)), 'updatedAt': datetime.datetime(2024, 9, 18, 12, 6, 10, 311106, tzinfo=TzInfo(UTC))}, {'id': 2807, 'name': 'async-property', 'version': '0.2.2', 'createdAt': datetime.datetime(2024, 9, 18, 12, 6, 10, 311734, tzinfo=TzInfo(UTC)), 'updatedAt': datetime.datetime(2024, 9, 18, 12, 6, 10, 311735, tzinfo=TzInfo(UTC))}, {'id': 2808, 'name': 'attrs', 'version': '23.2.0', 'createdAt': datetime.datetime(2024, 9, 18, 12, 6, 10, 312283, tzinfo=TzInfo(UTC)), 'updatedAt': datetime.datetime(2024, 9, 18, 12, 6, 10, 312285, tzinfo=TzInfo(UTC))}, {'id': 2809, 'name': 'certifi', 'version': '2024.8.30', 'createdAt': datetime.datetime(2024, 9, 18, 12, 6, 10, 312965, tzinfo=TzInfo(UTC)), 'updatedAt': datetime.datetime(2024, 9, 18, 12, 6, 10, 312967, tzinfo=TzInfo(UTC))}, {'id': 2810, 'name': 'cffi', 'version': '1.17.1', 'createdAt': datetime.datetime(2024, 9, 18, 12, 6, 10, 313617, tzinfo=TzInfo(UTC)), 'updatedAt': datetime.datetime(2024, 9, 18, 12, 6, 10, 313619, tzinfo=TzInfo(UTC))}, {'id': 2811, 'name': 'charset-normalizer', 'version': '3.3.2', 'createdAt': datetime.datetime(2024, 9, 18, 12, 6, 10, 314216, tzinfo=TzInfo(UTC)), 'updatedAt': datetime.datetime(2024, 9, 18, 12, 6, 10, 314217, tzinfo=TzInfo(UTC))}, {'id': 2812, 'name': 'click', 'version': '8.1.7', 'createdAt': datetime.datetime(2024, 9, 18, 12, 6, 10, 314801, tzinfo=TzInfo(UTC)), 'updatedAt': datetime.datetime(2024, 9, 18, 12, 6, 10, 314803, tzinfo=TzInfo(UTC))}, {'id': 2813, 'name': 'colorama', 'version': '0.4.6', 'createdAt': datetime.datetime(2024, 9, 18, 12, 6, 10, 315315, tzinfo=TzInfo(UTC)), 'updatedAt': datetime.datetime(2024, 9, 18, 12, 6, 10, 315316, tzinfo=TzInfo(UTC))}, {'id': 2814, 'name': 'coloredlogs', 'version': '15.0.1', 'createdAt': datetime.datetime(2024, 9, 18, 12, 6, 10, 315767, tzinfo=TzInfo(UTC)), 'updatedAt': datetime.datetime(2024, 9, 18, 12, 6, 10, 315768, tzinfo=TzInfo(UTC))}, {'id': 2815, 'name': 'compress-pickle', 'version': '2.1.0', 'createdAt': datetime.datetime(2024, 9, 18, 12, 6, 10, 316224, tzinfo=TzInfo(UTC)), 'updatedAt': datetime.datetime(2024, 9, 18, 12, 6, 10, 316225, tzinfo=TzInfo(UTC))}, {'id': 2816, 'name': 'contourpy', 'version': '1.3.0', 'createdAt': datetime.datetime(2024, 9, 18, 12, 6, 10, 316654, tzinfo=TzInfo(UTC)), 'updatedAt': datetime.datetime(2024, 9, 18, 12, 6, 10, 316656, tzinfo=TzInfo(UTC))}, {'id': 2817, 'name': 'cryptography', 'version': '43.0.1', 'createdAt': datetime.datetime(2024, 9, 18, 12, 6, 10, 317072, tzinfo=TzInfo(UTC)), 'updatedAt': datetime.datetime(2024, 9, 18, 12, 6, 10, 317073, tzinfo=TzInfo(UTC))}, {'id': 2818, 'name': 'cycler', 'version': '0.12.1', 'createdAt': datetime.datetime(2024, 9, 18, 12, 6, 10, 317483, tzinfo=TzInfo(UTC)), 'updatedAt': datetime.datetime(2024, 9, 18, 12, 6, 10, 317484, tzinfo=TzInfo(UTC))}, {'id': 2819, 'name': 'deprecation', 'version': '2.1.0', 'createdAt': datetime.datetime(2024, 9, 18, 12, 6, 10, 317895, tzinfo=TzInfo(UTC)), 'updatedAt': datetime.datetime(2024, 9, 18, 12, 6, 10, 317896, tzinfo=TzInfo(UTC))}, {'id': 2820, 'name': 'exceptiongroup', 'version': '1.2.2', 'createdAt': datetime.datetime(2024, 9, 18, 12, 6, 10, 318334, tzinfo=TzInfo(UTC)), 'updatedAt': datetime.datetime(2024, 9, 18, 12, 6, 10, 318335, tzinfo=TzInfo(UTC))}, {'id': 2821, 'name': 'filelock', 'version': '3.16.0', 'createdAt': datetime.datetime(2024, 9, 18, 12, 6, 10, 318883, tzinfo=TzInfo(UTC)), 'updatedAt': datetime.datetime(2024, 9, 18, 12, 6, 10, 318884, tzinfo=TzInfo(UTC))}, {'id': 2822, 'name': 'flatbuffers', 'version': '24.3.25', 'createdAt': datetime.datetime(2024, 9, 18, 12, 6, 10, 319396, tzinfo=TzInfo(UTC)), 'updatedAt': datetime.datetime(2024, 9, 18, 12, 6, 10, 319398, tzinfo=TzInfo(UTC))}, {'id': 2823, 'name': 'fonttools', 'version': '4.53.1', 'createdAt': datetime.datetime(2024, 9, 18, 12, 6, 10, 319844, tzinfo=TzInfo(UTC)), 'updatedAt': datetime.datetime(2024, 9, 18, 12, 6, 10, 319848, tzinfo=TzInfo(UTC))}, {'id': 2824, 'name': 'fsspec', 'version': '2024.9.0', 'createdAt': datetime.datetime(2024, 9, 18, 12, 6, 10, 320431, tzinfo=TzInfo(UTC)), 'updatedAt': datetime.datetime(2024, 9, 18, 12, 6, 10, 320432, tzinfo=TzInfo(UTC))}, {'id': 2825, 'name': 'h11', 'version': '0.14.0', 'createdAt': datetime.datetime(2024, 9, 18, 12, 6, 10, 321018, tzinfo=TzInfo(UTC)), 'updatedAt': datetime.datetime(2024, 9, 18, 12, 6, 10, 321021, tzinfo=TzInfo(UTC))}, {'id': 2826, 'name': 'httpcore', 'version': '1.0.5', 'createdAt': datetime.datetime(2024, 9, 18, 12, 6, 10, 321558, tzinfo=TzInfo(UTC)), 'updatedAt': datetime.datetime(2024, 9, 18, 12, 6, 10, 321559, tzinfo=TzInfo(UTC))}, {'id': 2827, 'name': 'httpx', 'version': '0.27.0', 'createdAt': datetime.datetime(2024, 9, 18, 12, 6, 10, 322066, tzinfo=TzInfo(UTC)), 'updatedAt': datetime.datetime(2024, 9, 18, 12, 6, 10, 322068, tzinfo=TzInfo(UTC))}, {'id': 2828, 'name': 'humanfriendly', 'version': '10.0', 'createdAt': datetime.datetime(2024, 9, 18, 12, 6, 10, 322569, tzinfo=TzInfo(UTC)), 'updatedAt': datetime.datetime(2024, 9, 18, 12, 6, 10, 322570, tzinfo=TzInfo(UTC))}, {'id': 2829, 'name': 'idna', 'version': '3.8', 'createdAt': datetime.datetime(2024, 9, 18, 12, 6, 10, 323060, tzinfo=TzInfo(UTC)), 'updatedAt': datetime.datetime(2024, 9, 18, 12, 6, 10, 323061, tzinfo=TzInfo(UTC))}, {'id': 2830, 'name': 'Jinja2', 'version': '3.1.4', 'createdAt': datetime.datetime(2024, 9, 18, 12, 6, 10, 323545, tzinfo=TzInfo(UTC)), 'updatedAt': datetime.datetime(2024, 9, 18, 12, 6, 10, 323547, tzinfo=TzInfo(UTC))}, {'id': 2831, 'name': 'joblib', 'version': '1.4.2', 'createdAt': datetime.datetime(2024, 9, 18, 12, 6, 10, 324105, tzinfo=TzInfo(UTC)), 'updatedAt': datetime.datetime(2024, 9, 18, 12, 6, 10, 324107, tzinfo=TzInfo(UTC))}, {'id': 2832, 'name': 'jwcrypto', 'version': '1.5.6', 'createdAt': datetime.datetime(2024, 9, 18, 12, 6, 10, 324953, tzinfo=TzInfo(UTC)), 'updatedAt': datetime.datetime(2024, 9, 18, 12, 6, 10, 324957, tzinfo=TzInfo(UTC))}, {'id': 2833, 'name': 'kennard-stone', 'version': '2.2.1', 'createdAt': datetime.datetime(2024, 9, 18, 12, 6, 10, 325683, tzinfo=TzInfo(UTC)), 'updatedAt': datetime.datetime(2024, 9, 18, 12, 6, 10, 325687, tzinfo=TzInfo(UTC))}, {'id': 2834, 'name': 'kiwisolver', 'version': '1.4.7', 'createdAt': datetime.datetime(2024, 9, 18, 12, 6, 10, 331244, tzinfo=TzInfo(UTC)), 'updatedAt': datetime.datetime(2024, 9, 18, 12, 6, 10, 331247, tzinfo=TzInfo(UTC))}, {'id': 2835, 'name': 'latexcodec', 'version': '3.0.0', 'createdAt': datetime.datetime(2024, 9, 18, 12, 6, 10, 331992, tzinfo=TzInfo(UTC)), 'updatedAt': datetime.datetime(2024, 9, 18, 12, 6, 10, 331997, tzinfo=TzInfo(UTC))}, {'id': 2836, 'name': 'markdown-it-py', 'version': '3.0.0', 'createdAt': datetime.datetime(2024, 9, 18, 12, 6, 10, 332646, tzinfo=TzInfo(UTC)), 'updatedAt': datetime.datetime(2024, 9, 18, 12, 6, 10, 332649, tzinfo=TzInfo(UTC))}, {'id': 2837, 'name': 'MarkupSafe', 'version': '2.1.5', 'createdAt': datetime.datetime(2024, 9, 18, 12, 6, 10, 333252, tzinfo=TzInfo(UTC)), 'updatedAt': datetime.datetime(2024, 9, 18, 12, 6, 10, 333255, tzinfo=TzInfo(UTC))}, {'id': 2838, 'name': 'matplotlib', 'version': '3.9.2', 'createdAt': datetime.datetime(2024, 9, 18, 12, 6, 10, 333814, tzinfo=TzInfo(UTC)), 'updatedAt': datetime.datetime(2024, 9, 18, 12, 6, 10, 333816, tzinfo=TzInfo(UTC))}, {'id': 2839, 'name': 'mdurl', 'version': '0.1.2', 'createdAt': datetime.datetime(2024, 9, 18, 12, 6, 10, 334437, tzinfo=TzInfo(UTC)), 'updatedAt': datetime.datetime(2024, 9, 18, 12, 6, 10, 334441, tzinfo=TzInfo(UTC))}, {'id': 2840, 'name': 'mendeleev', 'version': '0.16.2', 'createdAt': datetime.datetime(2024, 9, 18, 12, 6, 10, 335034, tzinfo=TzInfo(UTC)), 'updatedAt': datetime.datetime(2024, 9, 18, 12, 6, 10, 335037, tzinfo=TzInfo(UTC))}, {'id': 2841, 'name': 'monty', 'version': '2024.7.30', 'createdAt': datetime.datetime(2024, 9, 18, 12, 6, 10, 335737, tzinfo=TzInfo(UTC)), 'updatedAt': datetime.datetime(2024, 9, 18, 12, 6, 10, 335740, tzinfo=TzInfo(UTC))}, {'id': 2842, 'name': 'mordredcommunity', 'version': '2.0.5', 'createdAt': datetime.datetime(2024, 9, 18, 12, 6, 10, 336354, tzinfo=TzInfo(UTC)), 'updatedAt': datetime.datetime(2024, 9, 18, 12, 6, 10, 336358, tzinfo=TzInfo(UTC))}, {'id': 2843, 'name': 'mpmath', 'version': '1.3.0', 'createdAt': datetime.datetime(2024, 9, 18, 12, 6, 10, 337045, tzinfo=TzInfo(UTC)), 'updatedAt': datetime.datetime(2024, 9, 18, 12, 6, 10, 337049, tzinfo=TzInfo(UTC))}, {'id': 2844, 'name': 'networkx', 'version': '3.3', 'createdAt': datetime.datetime(2024, 9, 18, 12, 6, 10, 337689, tzinfo=TzInfo(UTC)), 'updatedAt': datetime.datetime(2024, 9, 18, 12, 6, 10, 337692, tzinfo=TzInfo(UTC))}, {'id': 2845, 'name': 'numpy', 'version': '1.26.4', 'createdAt': datetime.datetime(2024, 9, 18, 12, 6, 10, 339379, tzinfo=TzInfo(UTC)), 'updatedAt': datetime.datetime(2024, 9, 18, 12, 6, 10, 339383, tzinfo=TzInfo(UTC))}, {'id': 2846, 'name': 'onnx', 'version': '1.16.2', 'createdAt': datetime.datetime(2024, 9, 18, 12, 6, 10, 340742, tzinfo=TzInfo(UTC)), 'updatedAt': datetime.datetime(2024, 9, 18, 12, 6, 10, 340746, tzinfo=TzInfo(UTC))}, {'id': 2847, 'name': 'onnxconverter-common', 'version': '1.14.0', 'createdAt': datetime.datetime(2024, 9, 18, 12, 6, 10, 343483, tzinfo=TzInfo(UTC)), 'updatedAt': datetime.datetime(2024, 9, 18, 12, 6, 10, 343487, tzinfo=TzInfo(UTC))}, {'id': 2848, 'name': 'onnxruntime', 'version': '1.18.0', 'createdAt': datetime.datetime(2024, 9, 18, 12, 6, 10, 344232, tzinfo=TzInfo(UTC)), 'updatedAt': datetime.datetime(2024, 9, 18, 12, 6, 10, 344235, tzinfo=TzInfo(UTC))}, {'id': 2849, 'name': 'openapi-python-client', 'version': '0.21.5', 'createdAt': datetime.datetime(2024, 9, 18, 12, 6, 10, 344816, tzinfo=TzInfo(UTC)), 'updatedAt': datetime.datetime(2024, 9, 18, 12, 6, 10, 344819, tzinfo=TzInfo(UTC))}, {'id': 2850, 'name': 'packaging', 'version': '24.1', 'createdAt': datetime.datetime(2024, 9, 18, 12, 6, 10, 346603, tzinfo=TzInfo(UTC)), 'updatedAt': datetime.datetime(2024, 9, 18, 12, 6, 10, 346606, tzinfo=TzInfo(UTC))}, {'id': 2851, 'name': 'palettable', 'version': '3.3.3', 'createdAt': datetime.datetime(2024, 9, 18, 12, 6, 10, 347181, tzinfo=TzInfo(UTC)), 'updatedAt': datetime.datetime(2024, 9, 18, 12, 6, 10, 347184, tzinfo=TzInfo(UTC))}, {'id': 2852, 'name': 'pandas', 'version': '2.2.2', 'createdAt': datetime.datetime(2024, 9, 18, 12, 6, 10, 347721, tzinfo=TzInfo(UTC)), 'updatedAt': datetime.datetime(2024, 9, 18, 12, 6, 10, 347723, tzinfo=TzInfo(UTC))}, {'id': 2853, 'name': 'pillow', 'version': '10.4.0', 'createdAt': datetime.datetime(2024, 9, 18, 12, 6, 10, 348239, tzinfo=TzInfo(UTC)), 'updatedAt': datetime.datetime(2024, 9, 18, 12, 6, 10, 348242, tzinfo=TzInfo(UTC))}, {'id': 2854, 'name': 'plotly', 'version': '5.24.0', 'createdAt': datetime.datetime(2024, 9, 18, 12, 6, 10, 348862, tzinfo=TzInfo(UTC)), 'updatedAt': datetime.datetime(2024, 9, 18, 12, 6, 10, 348865, tzinfo=TzInfo(UTC))}, {'id': 2855, 'name': 'protobuf', 'version': '3.20.2', 'createdAt': datetime.datetime(2024, 9, 18, 12, 6, 10, 349414, tzinfo=TzInfo(UTC)), 'updatedAt': datetime.datetime(2024, 9, 18, 12, 6, 10, 349417, tzinfo=TzInfo(UTC))}, {'id': 2856, 'name': 'psutil', 'version': '6.0.0', 'createdAt': datetime.datetime(2024, 9, 18, 12, 6, 10, 350149, tzinfo=TzInfo(UTC)), 'updatedAt': datetime.datetime(2024, 9, 18, 12, 6, 10, 350152, tzinfo=TzInfo(UTC))}, {'id': 2857, 'name': 'pybtex', 'version': '0.24.0', 'createdAt': datetime.datetime(2024, 9, 18, 12, 6, 10, 350734, tzinfo=TzInfo(UTC)), 'updatedAt': datetime.datetime(2024, 9, 18, 12, 6, 10, 350738, tzinfo=TzInfo(UTC))}, {'id': 2858, 'name': 'pycparser', 'version': '2.22', 'createdAt': datetime.datetime(2024, 9, 18, 12, 6, 10, 351304, tzinfo=TzInfo(UTC)), 'updatedAt': datetime.datetime(2024, 9, 18, 12, 6, 10, 351308, tzinfo=TzInfo(UTC))}, {'id': 2859, 'name': 'pydantic', 'version': '2.7.1', 'createdAt': datetime.datetime(2024, 9, 18, 12, 6, 10, 351930, tzinfo=TzInfo(UTC)), 'updatedAt': datetime.datetime(2024, 9, 18, 12, 6, 10, 351933, tzinfo=TzInfo(UTC))}, {'id': 2860, 'name': 'pydantic_core', 'version': '2.18.2', 'createdAt': datetime.datetime(2024, 9, 18, 12, 6, 10, 352526, tzinfo=TzInfo(UTC)), 'updatedAt': datetime.datetime(2024, 9, 18, 12, 6, 10, 352529, tzinfo=TzInfo(UTC))}, {'id': 2861, 'name': 'pydotplus', 'version': '2.0.2', 'createdAt': datetime.datetime(2024, 9, 18, 12, 6, 10, 353082, tzinfo=TzInfo(UTC)), 'updatedAt': datetime.datetime(2024, 9, 18, 12, 6, 10, 353085, tzinfo=TzInfo(UTC))}, {'id': 2862, 'name': 'pyfiglet', 'version': '0.8.post1', 'createdAt': datetime.datetime(2024, 9, 18, 12, 6, 10, 353704, tzinfo=TzInfo(UTC)), 'updatedAt': datetime.datetime(2024, 9, 18, 12, 6, 10, 353707, tzinfo=TzInfo(UTC))}, {'id': 2863, 'name': 'Pygments', 'version': '2.18.0', 'createdAt': datetime.datetime(2024, 9, 18, 12, 6, 10, 354334, tzinfo=TzInfo(UTC)), 'updatedAt': datetime.datetime(2024, 9, 18, 12, 6, 10, 354337, tzinfo=TzInfo(UTC))}, {'id': 2864, 'name': 'PyJWT', 'version': '2.8.0', 'createdAt': datetime.datetime(2024, 9, 18, 12, 6, 10, 354941, tzinfo=TzInfo(UTC)), 'updatedAt': datetime.datetime(2024, 9, 18, 12, 6, 10, 354944, tzinfo=TzInfo(UTC))}, {'id': 2865, 'name': 'pymatgen', 'version': '2024.5.1', 'createdAt': datetime.datetime(2024, 9, 18, 12, 6, 10, 355560, tzinfo=TzInfo(UTC)), 'updatedAt': datetime.datetime(2024, 9, 18, 12, 6, 10, 355563, tzinfo=TzInfo(UTC))}, {'id': 2866, 'name': 'pyparsing', 'version': '3.1.4', 'createdAt': datetime.datetime(2024, 9, 18, 12, 6, 10, 356180, tzinfo=TzInfo(UTC)), 'updatedAt': datetime.datetime(2024, 9, 18, 12, 6, 10, 356182, tzinfo=TzInfo(UTC))}, {'id': 2867, 'name': 'python-dateutil', 'version': '2.9.0.post0', 'createdAt': datetime.datetime(2024, 9, 18, 12, 6, 10, 356782, tzinfo=TzInfo(UTC)), 'updatedAt': datetime.datetime(2024, 9, 18, 12, 6, 10, 356785, tzinfo=TzInfo(UTC))}, {'id': 2868, 'name': 'python-keycloak', 'version': '4.3.0', 'createdAt': datetime.datetime(2024, 9, 18, 12, 6, 10, 357389, tzinfo=TzInfo(UTC)), 'updatedAt': datetime.datetime(2024, 9, 18, 12, 6, 10, 357391, tzinfo=TzInfo(UTC))}, {'id': 2869, 'name': 'pytz', 'version': '2024.1', 'createdAt': datetime.datetime(2024, 9, 18, 12, 6, 10, 357975, tzinfo=TzInfo(UTC)), 'updatedAt': datetime.datetime(2024, 9, 18, 12, 6, 10, 357977, tzinfo=TzInfo(UTC))}, {'id': 2870, 'name': 'PyYAML', 'version': '6.0.2', 'createdAt': datetime.datetime(2024, 9, 18, 12, 6, 10, 358540, tzinfo=TzInfo(UTC)), 'updatedAt': datetime.datetime(2024, 9, 18, 12, 6, 10, 358543, tzinfo=TzInfo(UTC))}, {'id': 2871, 'name': 'rdkit', 'version': '2023.9.6', 'createdAt': datetime.datetime(2024, 9, 18, 12, 6, 10, 359117, tzinfo=TzInfo(UTC)), 'updatedAt': datetime.datetime(2024, 9, 18, 12, 6, 10, 359125, tzinfo=TzInfo(UTC))}, {'id': 2872, 'name': 'requests', 'version': '2.32.2', 'createdAt': datetime.datetime(2024, 9, 18, 12, 6, 10, 359615, tzinfo=TzInfo(UTC)), 'updatedAt': datetime.datetime(2024, 9, 18, 12, 6, 10, 359617, tzinfo=TzInfo(UTC))}, {'id': 2873, 'name': 'requests-toolbelt', 'version': '1.0.0', 'createdAt': datetime.datetime(2024, 9, 18, 12, 6, 10, 360198, tzinfo=TzInfo(UTC)), 'updatedAt': datetime.datetime(2024, 9, 18, 12, 6, 10, 360199, tzinfo=TzInfo(UTC))}, {'id': 2874, 'name': 'rich', 'version': '13.8.1', 'createdAt': datetime.datetime(2024, 9, 18, 12, 6, 10, 360671, tzinfo=TzInfo(UTC)), 'updatedAt': datetime.datetime(2024, 9, 18, 12, 6, 10, 360672, tzinfo=TzInfo(UTC))}, {'id': 2875, 'name': 'ruamel.yaml', 'version': '0.18.6', 'createdAt': datetime.datetime(2024, 9, 18, 12, 6, 10, 361170, tzinfo=TzInfo(UTC)), 'updatedAt': datetime.datetime(2024, 9, 18, 12, 6, 10, 361172, tzinfo=TzInfo(UTC))}, {'id': 2876, 'name': 'ruamel.yaml.clib', 'version': '0.2.8', 'createdAt': datetime.datetime(2024, 9, 18, 12, 6, 10, 361712, tzinfo=TzInfo(UTC)), 'updatedAt': datetime.datetime(2024, 9, 18, 12, 6, 10, 361713, tzinfo=TzInfo(UTC))}, {'id': 2877, 'name': 'ruff', 'version': '0.6.3', 'createdAt': datetime.datetime(2024, 9, 18, 12, 6, 10, 362205, tzinfo=TzInfo(UTC)), 'updatedAt': datetime.datetime(2024, 9, 18, 12, 6, 10, 362207, tzinfo=TzInfo(UTC))}, {'id': 2878, 'name': 'scikit-learn', 'version': '1.5.0', 'createdAt': datetime.datetime(2024, 9, 18, 12, 6, 10, 362697, tzinfo=TzInfo(UTC)), 'updatedAt': datetime.datetime(2024, 9, 18, 12, 6, 10, 362701, tzinfo=TzInfo(UTC))}, {'id': 2879, 'name': 'scipy', 'version': '1.14.1', 'createdAt': datetime.datetime(2024, 9, 18, 12, 6, 10, 363146, tzinfo=TzInfo(UTC)), 'updatedAt': datetime.datetime(2024, 9, 18, 12, 6, 10, 363147, tzinfo=TzInfo(UTC))}, {'id': 2880, 'name': 'shellingham', 'version': '1.5.4', 'createdAt': datetime.datetime(2024, 9, 18, 12, 6, 10, 363589, tzinfo=TzInfo(UTC)), 'updatedAt': datetime.datetime(2024, 9, 18, 12, 6, 10, 363590, tzinfo=TzInfo(UTC))}, {'id': 2881, 'name': 'simplejson', 'version': '3.19.2', 'createdAt': datetime.datetime(2024, 9, 18, 12, 6, 10, 364012, tzinfo=TzInfo(UTC)), 'updatedAt': datetime.datetime(2024, 9, 18, 12, 6, 10, 364013, tzinfo=TzInfo(UTC))}, {'id': 2882, 'name': 'six', 'version': '1.16.0', 'createdAt': datetime.datetime(2024, 9, 18, 12, 6, 10, 364519, tzinfo=TzInfo(UTC)), 'updatedAt': datetime.datetime(2024, 9, 18, 12, 6, 10, 364521, tzinfo=TzInfo(UTC))}, {'id': 2883, 'name': 'skl2onnx', 'version': '1.16.0', 'createdAt': datetime.datetime(2024, 9, 18, 12, 6, 10, 365035, tzinfo=TzInfo(UTC)), 'updatedAt': datetime.datetime(2024, 9, 18, 12, 6, 10, 365037, tzinfo=TzInfo(UTC))}, {'id': 2884, 'name': 'sniffio', 'version': '1.3.1', 'createdAt': datetime.datetime(2024, 9, 18, 12, 6, 10, 365487, tzinfo=TzInfo(UTC)), 'updatedAt': datetime.datetime(2024, 9, 18, 12, 6, 10, 365489, tzinfo=TzInfo(UTC))}, {'id': 2885, 'name': 'spglib', 'version': '2.5.0', 'createdAt': datetime.datetime(2024, 9, 18, 12, 6, 10, 365961, tzinfo=TzInfo(UTC)), 'updatedAt': datetime.datetime(2024, 9, 18, 12, 6, 10, 365963, tzinfo=TzInfo(UTC))}, {'id': 2886, 'name': 'SQLAlchemy', 'version': '2.0.34', 'createdAt': datetime.datetime(2024, 9, 18, 12, 6, 10, 366523, tzinfo=TzInfo(UTC)), 'updatedAt': datetime.datetime(2024, 9, 18, 12, 6, 10, 366524, tzinfo=TzInfo(UTC))}, {'id': 2887, 'name': 'sympy', 'version': '1.13.2', 'createdAt': datetime.datetime(2024, 9, 18, 12, 6, 10, 367036, tzinfo=TzInfo(UTC)), 'updatedAt': datetime.datetime(2024, 9, 18, 12, 6, 10, 367037, tzinfo=TzInfo(UTC))}, {'id': 2888, 'name': 'tabulate', 'version': '0.9.0', 'createdAt': datetime.datetime(2024, 9, 18, 12, 6, 10, 367500, tzinfo=TzInfo(UTC)), 'updatedAt': datetime.datetime(2024, 9, 18, 12, 6, 10, 367501, tzinfo=TzInfo(UTC))}, {'id': 2889, 'name': 'tenacity', 'version': '9.0.0', 'createdAt': datetime.datetime(2024, 9, 18, 12, 6, 10, 367950, tzinfo=TzInfo(UTC)), 'updatedAt': datetime.datetime(2024, 9, 18, 12, 6, 10, 367951, tzinfo=TzInfo(UTC))}, {'id': 2890, 'name': 'threadpoolctl', 'version': '3.5.0', 'createdAt': datetime.datetime(2024, 9, 18, 12, 6, 10, 368413, tzinfo=TzInfo(UTC)), 'updatedAt': datetime.datetime(2024, 9, 18, 12, 6, 10, 368414, tzinfo=TzInfo(UTC))}, {'id': 2891, 'name': 'torch', 'version': '2.3.0', 'createdAt': datetime.datetime(2024, 9, 18, 12, 6, 10, 368878, tzinfo=TzInfo(UTC)), 'updatedAt': datetime.datetime(2024, 9, 18, 12, 6, 10, 368879, tzinfo=TzInfo(UTC))}, {'id': 2892, 'name': 'torch_geometric', 'version': '2.3.1', 'createdAt': datetime.datetime(2024, 9, 18, 12, 6, 10, 369322, tzinfo=TzInfo(UTC)), 'updatedAt': datetime.datetime(2024, 9, 18, 12, 6, 10, 369323, tzinfo=TzInfo(UTC))}, {'id': 2893, 'name': 'torchvision', 'version': '0.18.0', 'createdAt': datetime.datetime(2024, 9, 18, 12, 6, 10, 369828, tzinfo=TzInfo(UTC)), 'updatedAt': datetime.datetime(2024, 9, 18, 12, 6, 10, 369830, tzinfo=TzInfo(UTC))}, {'id': 2894, 'name': 'tqdm', 'version': '4.66.4', 'createdAt': datetime.datetime(2024, 9, 18, 12, 6, 10, 370354, tzinfo=TzInfo(UTC)), 'updatedAt': datetime.datetime(2024, 9, 18, 12, 6, 10, 370355, tzinfo=TzInfo(UTC))}, {'id': 2895, 'name': 'typer', 'version': '0.12.5', 'createdAt': datetime.datetime(2024, 9, 18, 12, 6, 10, 370806, tzinfo=TzInfo(UTC)), 'updatedAt': datetime.datetime(2024, 9, 18, 12, 6, 10, 370807, tzinfo=TzInfo(UTC))}, {'id': 2896, 'name': 'typing_extensions', 'version': '4.12.2', 'createdAt': datetime.datetime(2024, 9, 18, 12, 6, 10, 371278, tzinfo=TzInfo(UTC)), 'updatedAt': datetime.datetime(2024, 9, 18, 12, 6, 10, 371279, tzinfo=TzInfo(UTC))}, {'id': 2897, 'name': 'tzdata', 'version': '2024.1', 'createdAt': datetime.datetime(2024, 9, 18, 12, 6, 10, 372009, tzinfo=TzInfo(UTC)), 'updatedAt': datetime.datetime(2024, 9, 18, 12, 6, 10, 372011, tzinfo=TzInfo(UTC))}, {'id': 2898, 'name': 'uncertainties', 'version': '3.2.2', 'createdAt': datetime.datetime(2024, 9, 18, 12, 6, 10, 372538, tzinfo=TzInfo(UTC)), 'updatedAt': datetime.datetime(2024, 9, 18, 12, 6, 10, 372540, tzinfo=TzInfo(UTC))}, {'id': 2899, 'name': 'urllib3', 'version': '2.2.2', 'createdAt': datetime.datetime(2024, 9, 18, 12, 6, 10, 373026, tzinfo=TzInfo(UTC)), 'updatedAt': datetime.datetime(2024, 9, 18, 12, 6, 10, 373027, tzinfo=TzInfo(UTC))}], 'dependentFeatures': [{'id': 37114, 'key': 'ACTIVITY', 'name': 'ACTIVITY', 'featureType': <FeatureType.INTEGER: 'INTEGER'>, 'featureDependency': 'DEPENDENT', 'createdAt': datetime.datetime(2024, 9, 18, 12, 6, 10, 299968, tzinfo=TzInfo(UTC)), 'updatedAt': datetime.datetime(2024, 9, 18, 12, 6, 10, 299978, tzinfo=TzInfo(UTC))}], 'independentFeatures': [{'id': 37115, 'key': 'SMILES', 'name': 'SMILES', 'featureType': <FeatureType.SMILES: 'SMILES'>, 'featureDependency': 'INDEPENDENT', 'createdAt': datetime.datetime(2024, 9, 18, 12, 6, 10, 306516, tzinfo=TzInfo(UTC)), 'updatedAt': datetime.datetime(2024, 9, 18, 12, 6, 10, 306522, tzinfo=TzInfo(UTC))}, {'id': 37116, 'key': 'X1', 'name': 'X1', 'featureType': <FeatureType.INTEGER: 'INTEGER'>, 'featureDependency': 'INDEPENDENT', 'createdAt': datetime.datetime(2024, 9, 18, 12, 6, 10, 307326, tzinfo=TzInfo(UTC)), 'updatedAt': datetime.datetime(2024, 9, 18, 12, 6, 10, 307329, tzinfo=TzInfo(UTC))}, {'id': 37117, 'key': 'X2', 'name': 'X2', 'featureType': <FeatureType.INTEGER: 'INTEGER'>, 'featureDependency': 'INDEPENDENT', 'createdAt': datetime.datetime(2024, 9, 18, 12, 6, 10, 308124, tzinfo=TzInfo(UTC)), 'updatedAt': datetime.datetime(2024, 9, 18, 12, 6, 10, 308127, tzinfo=TzInfo(UTC))}], 'sharedWithOrganizations': [], 'visibility': <ModelVisibility.PRIVATE: 'PRIVATE'>, 'task': <ModelTask.REGRESSION: 'REGRESSION'>, 'rawModel': '', 'creator': {'id': '8ba56047-97db-4954-affb-b4f78bab0c05', 'username': 'vassilis_mn', 'firstName': 'Vassilis', 'lastName': 'Minadakis', 'email': 'vassilisminadakis@gmail.com', 'emailVerified': True}, 'canEdit': True, 'isAdmin': False, 'createdAt': datetime.datetime(2024, 9, 18, 12, 6, 10, 186706, tzinfo=TzInfo(UTC)), 'updatedAt': datetime.datetime(2024, 9, 18, 12, 6, 10, 544366, tzinfo=TzInfo(UTC))}\n"
     ]
    }
   ],
   "source": [
    "model = jaqpot.get_model_by_id(model_id=1812)\n",
    "print(model)"
   ]
  },
  {
   "cell_type": "markdown",
   "id": "37a6313d-e44b-4486-a4a1-19f227cc4d2c",
   "metadata": {},
   "source": [
    "# Use the model to take a prediction"
   ]
  },
  {
   "cell_type": "markdown",
   "id": "7846c4ec-4fd4-4e76-91f7-cb4377aba728",
   "metadata": {},
   "source": [
    "Define the input data."
   ]
  },
  {
   "cell_type": "code",
   "execution_count": 8,
   "id": "7c731709-cc93-496c-a5f9-690e92029fb2",
   "metadata": {
    "tags": []
   },
   "outputs": [],
   "source": [
    "input_data = [{\"SMILES\": \"CC\", \"X1\": 1, \"X2\": 2}]"
   ]
  },
  {
   "cell_type": "markdown",
   "id": "fe513bbf-d129-49b5-b4f2-8277ebd4e02d",
   "metadata": {},
   "source": [
    "Parse `input_data` and model_id to `predict_with_model()`."
   ]
  },
  {
   "cell_type": "code",
   "execution_count": 9,
   "id": "065e68a2-2f55-40b7-81bb-ac2d687576a7",
   "metadata": {
    "tags": []
   },
   "outputs": [
    {
     "name": "stdout",
     "output_type": "stream",
     "text": [
      "[{'AD': None, 'ACTIVITY': '15754.86', 'Probabilities': 'None'}]\n"
     ]
    }
   ],
   "source": [
    "prediction = jaqpot.predict_sync(model_id=1812, dataset=input_data)\n",
    "print(prediction)"
   ]
  },
  {
   "cell_type": "markdown",
   "id": "a9758033-1a21-41f3-9641-1c98e0569e54",
   "metadata": {},
   "source": [
    "# Parse a csv to the model to take multiple predictions"
   ]
  },
  {
   "cell_type": "code",
   "execution_count": 10,
   "id": "c8d7b8b2-58f4-4f61-8fe0-5d777a7bf0b5",
   "metadata": {
    "tags": []
   },
   "outputs": [
    {
     "name": "stdout",
     "output_type": "stream",
     "text": [
      "[{'AD': None, 'ACTIVITY': '15012.5', 'Probabilities': 'None'}, {'AD': None, 'ACTIVITY': '3200.5396', 'Probabilities': 'None'}, {'AD': None, 'ACTIVITY': '3543.9702', 'Probabilities': 'None'}, {'AD': None, 'ACTIVITY': '2962.0386', 'Probabilities': 'None'}]\n"
     ]
    }
   ],
   "source": [
    "csv_path = \"/Users/vassilis/Desktop/test_csv.csv\"\n",
    "prediction = jaqpot.predict_with_csv_sync(model_id=1812, csv_path=csv_path)\n",
    "print(prediction)"
   ]
  },
  {
   "cell_type": "markdown",
   "id": "6f891612",
   "metadata": {},
   "source": [
    "# QsarToolBox IDs\n",
    "\n",
    "| QsarTollBox Component | id |\n",
    "|-----------------------|-------|\n",
    "| Calculator            | 6     |\n",
    "| Model                 | 1837  |\n",
    "| Profiler              | 1842  |"
   ]
  },
  {
   "cell_type": "code",
   "execution_count": 11,
   "id": "2583ef37",
   "metadata": {
    "tags": []
   },
   "outputs": [
    {
     "name": "stdout",
     "output_type": "stream",
     "text": [
      "{'id': 1842, 'name': 'QSAR Toolbox Profiler integration', 'description': '# QSAR Toolbox Profiler Integration\\n\\n#### **Warning: Some profilers may fail if they exceed the computational time of 1 minute**\\n\\nThis machine learning model serves as an interface for the [QSAR Toolbox API](https://qsartoolbox.org/), allowing users to input SMILES strings and choose a profiler type to generate various predictive values.\\n\\n**Key Features:**\\n- Accepts molecular structures in SMILES notation\\n- Leverages specific profilers from the QSAR Toolbox for predictions\\n- Provides predictive results based on the selected profiler and input\\n\\nFor further information, visit the [QSAR Toolbox website](https://qsartoolbox.org/).\\n\\n', 'type': <ModelType.QSAR_TOOLBOX_PROFILER: 'QSAR_TOOLBOX_PROFILER'>, 'jaqpotpyVersion': '1.0.0', 'libraries': [], 'dependentFeatures': [{'id': 37238, 'key': 'Value', 'name': 'Value', 'description': '', 'featureType': <FeatureType.FLOAT: 'FLOAT'>, 'featureDependency': 'DEPENDENT', 'createdAt': datetime.datetime(2024, 10, 3, 11, 27, 59, 323673, tzinfo=TzInfo(UTC)), 'updatedAt': datetime.datetime(2024, 10, 3, 11, 27, 59, 323732, tzinfo=TzInfo(UTC))}, {'id': 37239, 'key': 'Name', 'name': 'Name', 'description': '', 'featureType': <FeatureType.STRING: 'STRING'>, 'featureDependency': 'DEPENDENT', 'createdAt': datetime.datetime(2024, 10, 3, 11, 27, 59, 326979, tzinfo=TzInfo(UTC)), 'updatedAt': datetime.datetime(2024, 10, 3, 11, 27, 59, 327017, tzinfo=TzInfo(UTC))}], 'independentFeatures': [{'id': 37240, 'key': 'smiles', 'name': 'A Smiles representation', 'description': 'A Smiles representation', 'featureType': <FeatureType.STRING: 'STRING'>, 'featureDependency': 'INDEPENDENT', 'createdAt': datetime.datetime(2024, 10, 3, 11, 27, 59, 328699, tzinfo=TzInfo(UTC)), 'updatedAt': datetime.datetime(2024, 10, 3, 11, 27, 59, 328732, tzinfo=TzInfo(UTC))}, {'id': 37241, 'key': 'profilerGuid', 'name': 'Profiler', 'description': '', 'featureType': <FeatureType.CATEGORICAL: 'CATEGORICAL'>, 'featureDependency': 'INDEPENDENT', 'possibleValues': [{'key': '1f1091d6-b4dd-4400-8dcf-bdbc1397a3de', 'value': '1 ECHA P profiler'}, {'key': '6db1fc83-858a-4fc7-9289-753c7c6b38f7', 'value': '2 ECHA B profiler'}, {'key': '30153132-a1f3-4a5a-846b-3aac62ddf453', 'value': '3 ECHA T profiler (ENV)'}, {'key': 'a06271f5-944e-4892-b0ad-fa5f7217ec14', 'value': 'Acute aquatic toxicity classification by Verhaar (Modified)'}, {'key': '5f241597-c420-43f9-8ff7-af33dff99c60', 'value': 'Acute aquatic toxicity MOA by OASIS'}, {'key': '5a23498e-11ea-4569-b120-b4a0f2cad786', 'value': 'Acute Oral Toxicity'}, {'key': '6e91aee2-2c3e-4e4b-8b44-5d14018bb4eb', 'value': 'All TERPENES'}, {'key': '585c3344-45f5-4c22-8466-7324383a3c30', 'value': 'All terpenes_R7'}, {'key': 'f662ac67-684c-4c3f-8a66-160d2b63f435', 'value': 'Aquatic toxicity classification by ECOSAR'}, {'key': '62d7947a-d473-45d6-8f1c-ebd45cac6267', 'value': 'Bioaccumulation - metabolism alerts'}, {'key': '66ce7511-d556-4052-81db-5eaf2d370e7a', 'value': 'Bioaccumulation - metabolism half-lives'}, {'key': 'e0f6c1c4-04bc-47cb-bf31-86948f38a607', 'value': 'Biodeg BioHC half-life (Biowin)'}, {'key': '0d6c0447-e311-4201-933a-bb75cd845ca7', 'value': 'Biodegradation fragments (BioWIN MITI)'}, {'key': '44619e93-36a4-412f-9575-c21a4928fa57', 'value': 'Biodegradation primary (Biowin 4)'}, {'key': '98258538-a931-408f-b459-15d769090db9', 'value': 'Biodegradation probability (Biowin 1)'}, {'key': '528c9b02-d816-4996-891a-94d150d7e374', 'value': 'Biodegradation probability (Biowin 2)'}, {'key': '042065de-c0a9-459d-a256-9a572b5bdedb', 'value': 'Biodegradation probability (Biowin 5)'}, {'key': '995f48fb-21ad-4ae8-9e33-42e4c58ead97', 'value': 'Biodegradation probability (Biowin 6)'}, {'key': '288b2dcd-153b-4c3b-bf23-01e39be21f9b', 'value': 'Biodegradation probability (Biowin 7)'}, {'key': 'a073010f-e717-4b16-97be-2329de725403', 'value': 'Biodegradation ultimate (Biowin 3)'}, {'key': '48ddf1f2-fae6-4672-8f71-6c13e6f1008e', 'value': 'Blood brain barrier'}, {'key': '2256b12d-5ef8-49a2-af9a-b453b3f23d96', 'value': 'Carcinogenicity (genotox and nongenotox) alerts by ISS'}, {'key': 'ee991334-f544-4b4c-b5d9-ff5ca5935101', 'value': 'Chemical elements'}, {'key': '7d637c92-6764-476b-903e-09735c1d3119', 'value': 'DART scheme'}, {'key': 'dfd344a8-775a-4999-9ccc-2cdc94fdf785', 'value': 'Database Affiliation'}, {'key': 'cba502bd-358a-426d-ab7a-688a7202f091', 'value': 'DNA alerts for AMES, CA and MNT by OASIS'}, {'key': '23d69016-71e4-4dbf-8306-2faad3071f99', 'value': 'DNA binding by OASIS'}, {'key': '2782c679-745d-4ae5-8e91-e18daf8c93e0', 'value': 'DNA binding by OECD'}, {'key': '82022987-367a-4aca-b962-9ec7127e3040', 'value': 'Estrogen Receptor Binding'}, {'key': '97f51119-d6a1-4597-b9a4-5389763d3cfe', 'value': 'Example Prioritization Scheme (PBT)'}, {'key': 'ae169ec2-d1b5-4fb7-a59c-9dd5eb00c7f7', 'value': 'Eye irritation/corrosion Exclusion rules by BfR'}, {'key': 'e5349d01-44b1-44bd-9213-2d194d9549fa', 'value': 'Eye irritation/corrosion Inclusion rules by BfR'}, {'key': 'd00b495e-31d6-4640-b5d5-64b7f4e25f97', 'value': 'Groups of elements'}, {'key': 'f5975ac5-ef52-44e9-9c2d-ec676c724c4b', 'value': 'Hydrolysis half-life (Ka, pH 7)(Hydrowin)'}, {'key': 'ddd59664-8509-4a0d-9d24-99b37d91ca85', 'value': 'Hydrolysis half-life (Ka, pH 8)(Hydrowin)'}, {'key': '35894a1a-1570-44a3-aa8e-4de2ba44ad38', 'value': 'Hydrolysis half-life (Kb, pH 7)(Hydrowin)'}, {'key': 'cbcd33a4-bd5a-4769-a7ae-503277a8c562', 'value': 'Hydrolysis half-life (Kb, pH 8)(Hydrowin)'}, {'key': '04d1717a-70a8-4e1f-8a6d-08338bdd7ec4', 'value': 'Hydrolysis half-life (pH 6.5-7.4)'}, {'key': '50d215a3-adb9-4b37-b72b-6bc04f313056', 'value': 'in vitro mutagenicity (Ames test) alerts by ISS'}, {'key': '12fb37d0-fdde-4985-8092-34dd6aa32023', 'value': 'in vivo mutagenicity (Micronucleus) alerts by ISS'}, {'key': '3e8e16a0-7723-4649-80cd-90c21f39ca01', 'value': 'Inventory Affiliation'}, {'key': '5486d6ff-3241-401c-82a3-d7eb9a1b2be1', 'value': 'Ionization at pH = 1'}, {'key': '4ced55c3-7eb8-4f9e-9c8f-3e43c6b8053c', 'value': 'Ionization at pH = 4'}, {'key': '65f6a209-e50c-40f8-809a-3ae6baba33d4', 'value': 'Ionization at pH = 7.4'}, {'key': 'f6c44acb-1264-4ba6-9815-2ad226f858c3', 'value': 'Ionization at pH = 9'}, {'key': '561749ad-2c8b-1ad4-b56a-dc418a9438b2', 'value': 'iSafeRat® Mechanisms of toxic Action profiler'}, {'key': 'e8aeedd7-72d8-4003-b2ed-cd6529677b8f', 'value': 'Keratinocyte gene expression'}, {'key': '92343cf5-043c-444b-bf10-0be0ccfc134e', 'value': 'Lipinski Rule Oasis'}, {'key': '799fd171-ca3b-4c61-8e99-a2fcbdde5ccc', 'value': 'OECD HPV Chemical Categories'}, {'key': '52e345cb-8f65-4524-9f33-64b96ed13878', 'value': 'Oncologic Primary Classification'}, {'key': 'eac042c5-58d0-4f61-944d-74f800f15cac', 'value': 'Oral absorption'}, {'key': '0e9ebafd-9dcd-4899-b5bb-11b85ef32b23', 'value': 'Organic functional groups'}, {'key': '4fbdaa0a-0d8d-4b7e-8851-b8817bf50b03', 'value': 'Organic functional groups (nested)'}, {'key': 'fa31b3b4-853e-470d-9a71-eded98e60c4e', 'value': 'Organic functional groups (US EPA)'}, {'key': '9259b6a8-a0ee-4344-bc18-ef5e394d7274', 'value': 'Organic functional groups, Norbert Haider (checkmol)'}, {'key': '2dd5c9d5-59ad-4158-b620-0e6cf8660e4f', 'value': 'Protein binding alerts for Chromosomal aberration by OASIS'}, {'key': '1680d436-1615-40b9-9417-4bce5fe787fa', 'value': 'Protein binding alerts for skin sensitization according to GHS'}, {'key': '98f8a7b9-0740-4b71-af83-f108fb4f722d', 'value': 'Protein binding alerts for skin sensitization by OASIS'}, {'key': '71bf1896-8d07-4ff8-a7eb-5298fe3bd1b9', 'value': 'Protein binding by OASIS'}, {'key': '723eb011-3e5b-4565-9358-4c3d8620ba5d', 'value': 'Protein binding by OECD'}, {'key': '6b981ca5-a945-4331-9e92-a8948cddb1e9', 'value': 'Protein binding potency Cys (DPRA 13%)'}, {'key': 'a76653ce-8e5e-49a5-83e6-58c6139ca7fe', 'value': 'Protein binding potency GSH'}, {'key': '043c65bc-a16d-472c-aa76-7e3d0b3f48eb', 'value': 'Protein Binding Potency h-CLAT'}, {'key': 'e6fd8c5f-32b0-4f16-a8ed-95b03298e83e', 'value': 'Protein binding potency Lys (DPRA 13%)'}, {'key': '5b1bc853-0ec0-423a-9200-21c440c9a7cc', 'value': 'Repeated dose (HESS)'}, {'key': '5e181bd3-3d8d-4d9e-b981-54c4ca97bb8b', 'value': 'Respiratory sensitisation'}, {'key': '269cbe29-b1e2-484b-905f-bbd83a380899', 'value': 'Retinoic Acid Receptor Binding'}, {'key': '32656e9d-5057-4019-ba83-d2713ef60605', 'value': 'rtER Expert System - USEPA'}, {'key': 'b78ae496-5748-49d1-93d1-7530d5e2e367', 'value': 'Skin irritation/corrosion Exclusion rules by BfR'}, {'key': '205eaaae-5679-47ad-b6e7-b544b95436ae', 'value': 'Skin irritation/corrosion Inclusion rules by BfR'}, {'key': '359655bf-5bdb-43f6-96b7-6162bffe9ea1', 'value': 'Skin permeability'}, {'key': 'ac82ed8d-a156-42d4-83e2-ac420b748304', 'value': 'Structure similarity'}, {'key': 'ff16af4c-efe9-4a7e-8a2f-a172104c2614', 'value': 'Substance type'}, {'key': '6e1f573f-c6d3-42e5-a800-7c118f442a14', 'value': 'Tautomers unstable'}, {'key': 'aa645923-a592-46fe-9069-737a2e4a7ac6', 'value': 'Toxic hazard classification by Cramer'}, {'key': '8118699b-f496-41fa-b0bd-d1fab56af3d9', 'value': 'Toxic hazard classification by Cramer (extended)_v.2.5'}, {'key': '34996c50-e065-4407-8aa9-e09c9e485cea', 'value': 'Toxic hazard classification by Cramer_v.2.5'}, {'key': '9aed1a13-4f47-4302-9e23-edfeb3c4283f', 'value': 'Ultimate biodeg'}, {'key': 'f05e3ca0-bba7-4a31-89a0-ab345fad7ef7', 'value': 'Uncouplers (MITOTOX)'}, {'key': '1a058730-3759-47c0-9f79-273598cf85f1', 'value': 'US-EPA New Chemical Categories'}], 'createdAt': datetime.datetime(2024, 10, 3, 11, 27, 59, 331623, tzinfo=TzInfo(UTC)), 'updatedAt': datetime.datetime(2024, 10, 8, 7, 28, 42, 697707, tzinfo=TzInfo(UTC))}], 'sharedWithOrganizations': [], 'visibility': <ModelVisibility.PUBLIC: 'PUBLIC'>, 'task': <ModelTask.REGRESSION: 'REGRESSION'>, 'rawModel': '', 'creator': {'id': '1ed66eb6-f4c8-4158-930e-9ba2a247adb3', 'username': 'jaqpot-team', 'firstName': 'Jaqpot', 'lastName': 'Team', 'email': 'jaqpot+1@jaqpot.org', 'emailVerified': True}, 'canEdit': False, 'isAdmin': False, 'tags': '', 'createdAt': datetime.datetime(2024, 10, 3, 11, 27, 59, 221880, tzinfo=TzInfo(UTC)), 'updatedAt': datetime.datetime(2024, 10, 3, 11, 49, 26, 38018, tzinfo=TzInfo(UTC))}\n"
     ]
    }
   ],
   "source": [
    "# Retrieve QsarTollBox Calculator\n",
    "# model = jaqpot.get_model_by_id(model_id=6)\n",
    "\n",
    "# Retrieve QsarToolBox model\n",
    "# model = jaqpot.get_model_by_id(model_id=1837)\n",
    "\n",
    "# Retrieve QsarToolBox Profiler\n",
    "model = jaqpot.get_model_by_id(model_id=1842)\n",
    "\n",
    "print(model)"
   ]
  },
  {
   "cell_type": "code",
   "execution_count": 12,
   "id": "e069d40a",
   "metadata": {
    "tags": []
   },
   "outputs": [
    {
     "name": "stdout",
     "output_type": "stream",
     "text": [
      "                                                value  \\\n",
      "0                                   1 ECHA P profiler   \n",
      "1                                   2 ECHA B profiler   \n",
      "2                             3 ECHA T profiler (ENV)   \n",
      "3   Acute aquatic toxicity classification by Verha...   \n",
      "4                 Acute aquatic toxicity MOA by OASIS   \n",
      "5                                 Acute Oral Toxicity   \n",
      "6                                        All TERPENES   \n",
      "7                                     All terpenes_R7   \n",
      "8           Aquatic toxicity classification by ECOSAR   \n",
      "9                 Bioaccumulation - metabolism alerts   \n",
      "10            Bioaccumulation - metabolism half-lives   \n",
      "11                    Biodeg BioHC half-life (Biowin)   \n",
      "12             Biodegradation fragments (BioWIN MITI)   \n",
      "13                  Biodegradation primary (Biowin 4)   \n",
      "14              Biodegradation probability (Biowin 1)   \n",
      "15              Biodegradation probability (Biowin 2)   \n",
      "16              Biodegradation probability (Biowin 5)   \n",
      "17              Biodegradation probability (Biowin 6)   \n",
      "18              Biodegradation probability (Biowin 7)   \n",
      "19                 Biodegradation ultimate (Biowin 3)   \n",
      "20                                Blood brain barrier   \n",
      "21  Carcinogenicity (genotox and nongenotox) alert...   \n",
      "22                                  Chemical elements   \n",
      "23                                        DART scheme   \n",
      "24                               Database Affiliation   \n",
      "25           DNA alerts for AMES, CA and MNT by OASIS   \n",
      "26                               DNA binding by OASIS   \n",
      "27                                DNA binding by OECD   \n",
      "28                          Estrogen Receptor Binding   \n",
      "29                Example Prioritization Scheme (PBT)   \n",
      "30    Eye irritation/corrosion Exclusion rules by BfR   \n",
      "31    Eye irritation/corrosion Inclusion rules by BfR   \n",
      "32                                 Groups of elements   \n",
      "33          Hydrolysis half-life (Ka, pH 7)(Hydrowin)   \n",
      "34          Hydrolysis half-life (Ka, pH 8)(Hydrowin)   \n",
      "35          Hydrolysis half-life (Kb, pH 7)(Hydrowin)   \n",
      "36          Hydrolysis half-life (Kb, pH 8)(Hydrowin)   \n",
      "37                  Hydrolysis half-life (pH 6.5-7.4)   \n",
      "38    in vitro mutagenicity (Ames test) alerts by ISS   \n",
      "39  in vivo mutagenicity (Micronucleus) alerts by ISS   \n",
      "40                              Inventory Affiliation   \n",
      "41                               Ionization at pH = 1   \n",
      "42                               Ionization at pH = 4   \n",
      "43                             Ionization at pH = 7.4   \n",
      "44                               Ionization at pH = 9   \n",
      "45      iSafeRat® Mechanisms of toxic Action profiler   \n",
      "46                       Keratinocyte gene expression   \n",
      "47                                Lipinski Rule Oasis   \n",
      "48                       OECD HPV Chemical Categories   \n",
      "49                   Oncologic Primary Classification   \n",
      "50                                    Oral absorption   \n",
      "51                          Organic functional groups   \n",
      "52                 Organic functional groups (nested)   \n",
      "53                 Organic functional groups (US EPA)   \n",
      "54  Organic functional groups, Norbert Haider (che...   \n",
      "55  Protein binding alerts for Chromosomal aberrat...   \n",
      "56  Protein binding alerts for skin sensitization ...   \n",
      "57  Protein binding alerts for skin sensitization ...   \n",
      "58                           Protein binding by OASIS   \n",
      "59                            Protein binding by OECD   \n",
      "60             Protein binding potency Cys (DPRA 13%)   \n",
      "61                        Protein binding potency GSH   \n",
      "62                     Protein Binding Potency h-CLAT   \n",
      "63             Protein binding potency Lys (DPRA 13%)   \n",
      "64                               Repeated dose (HESS)   \n",
      "65                          Respiratory sensitisation   \n",
      "66                     Retinoic Acid Receptor Binding   \n",
      "67                         rtER Expert System - USEPA   \n",
      "68   Skin irritation/corrosion Exclusion rules by BfR   \n",
      "69   Skin irritation/corrosion Inclusion rules by BfR   \n",
      "70                                  Skin permeability   \n",
      "71                               Structure similarity   \n",
      "72                                     Substance type   \n",
      "73                                 Tautomers unstable   \n",
      "74              Toxic hazard classification by Cramer   \n",
      "75  Toxic hazard classification by Cramer (extende...   \n",
      "76        Toxic hazard classification by Cramer_v.2.5   \n",
      "77                                    Ultimate biodeg   \n",
      "78                               Uncouplers (MITOTOX)   \n",
      "79                     US-EPA New Chemical Categories   \n",
      "\n",
      "                                     key  \n",
      "0   1f1091d6-b4dd-4400-8dcf-bdbc1397a3de  \n",
      "1   6db1fc83-858a-4fc7-9289-753c7c6b38f7  \n",
      "2   30153132-a1f3-4a5a-846b-3aac62ddf453  \n",
      "3   a06271f5-944e-4892-b0ad-fa5f7217ec14  \n",
      "4   5f241597-c420-43f9-8ff7-af33dff99c60  \n",
      "5   5a23498e-11ea-4569-b120-b4a0f2cad786  \n",
      "6   6e91aee2-2c3e-4e4b-8b44-5d14018bb4eb  \n",
      "7   585c3344-45f5-4c22-8466-7324383a3c30  \n",
      "8   f662ac67-684c-4c3f-8a66-160d2b63f435  \n",
      "9   62d7947a-d473-45d6-8f1c-ebd45cac6267  \n",
      "10  66ce7511-d556-4052-81db-5eaf2d370e7a  \n",
      "11  e0f6c1c4-04bc-47cb-bf31-86948f38a607  \n",
      "12  0d6c0447-e311-4201-933a-bb75cd845ca7  \n",
      "13  44619e93-36a4-412f-9575-c21a4928fa57  \n",
      "14  98258538-a931-408f-b459-15d769090db9  \n",
      "15  528c9b02-d816-4996-891a-94d150d7e374  \n",
      "16  042065de-c0a9-459d-a256-9a572b5bdedb  \n",
      "17  995f48fb-21ad-4ae8-9e33-42e4c58ead97  \n",
      "18  288b2dcd-153b-4c3b-bf23-01e39be21f9b  \n",
      "19  a073010f-e717-4b16-97be-2329de725403  \n",
      "20  48ddf1f2-fae6-4672-8f71-6c13e6f1008e  \n",
      "21  2256b12d-5ef8-49a2-af9a-b453b3f23d96  \n",
      "22  ee991334-f544-4b4c-b5d9-ff5ca5935101  \n",
      "23  7d637c92-6764-476b-903e-09735c1d3119  \n",
      "24  dfd344a8-775a-4999-9ccc-2cdc94fdf785  \n",
      "25  cba502bd-358a-426d-ab7a-688a7202f091  \n",
      "26  23d69016-71e4-4dbf-8306-2faad3071f99  \n",
      "27  2782c679-745d-4ae5-8e91-e18daf8c93e0  \n",
      "28  82022987-367a-4aca-b962-9ec7127e3040  \n",
      "29  97f51119-d6a1-4597-b9a4-5389763d3cfe  \n",
      "30  ae169ec2-d1b5-4fb7-a59c-9dd5eb00c7f7  \n",
      "31  e5349d01-44b1-44bd-9213-2d194d9549fa  \n",
      "32  d00b495e-31d6-4640-b5d5-64b7f4e25f97  \n",
      "33  f5975ac5-ef52-44e9-9c2d-ec676c724c4b  \n",
      "34  ddd59664-8509-4a0d-9d24-99b37d91ca85  \n",
      "35  35894a1a-1570-44a3-aa8e-4de2ba44ad38  \n",
      "36  cbcd33a4-bd5a-4769-a7ae-503277a8c562  \n",
      "37  04d1717a-70a8-4e1f-8a6d-08338bdd7ec4  \n",
      "38  50d215a3-adb9-4b37-b72b-6bc04f313056  \n",
      "39  12fb37d0-fdde-4985-8092-34dd6aa32023  \n",
      "40  3e8e16a0-7723-4649-80cd-90c21f39ca01  \n",
      "41  5486d6ff-3241-401c-82a3-d7eb9a1b2be1  \n",
      "42  4ced55c3-7eb8-4f9e-9c8f-3e43c6b8053c  \n",
      "43  65f6a209-e50c-40f8-809a-3ae6baba33d4  \n",
      "44  f6c44acb-1264-4ba6-9815-2ad226f858c3  \n",
      "45  561749ad-2c8b-1ad4-b56a-dc418a9438b2  \n",
      "46  e8aeedd7-72d8-4003-b2ed-cd6529677b8f  \n",
      "47  92343cf5-043c-444b-bf10-0be0ccfc134e  \n",
      "48  799fd171-ca3b-4c61-8e99-a2fcbdde5ccc  \n",
      "49  52e345cb-8f65-4524-9f33-64b96ed13878  \n",
      "50  eac042c5-58d0-4f61-944d-74f800f15cac  \n",
      "51  0e9ebafd-9dcd-4899-b5bb-11b85ef32b23  \n",
      "52  4fbdaa0a-0d8d-4b7e-8851-b8817bf50b03  \n",
      "53  fa31b3b4-853e-470d-9a71-eded98e60c4e  \n",
      "54  9259b6a8-a0ee-4344-bc18-ef5e394d7274  \n",
      "55  2dd5c9d5-59ad-4158-b620-0e6cf8660e4f  \n",
      "56  1680d436-1615-40b9-9417-4bce5fe787fa  \n",
      "57  98f8a7b9-0740-4b71-af83-f108fb4f722d  \n",
      "58  71bf1896-8d07-4ff8-a7eb-5298fe3bd1b9  \n",
      "59  723eb011-3e5b-4565-9358-4c3d8620ba5d  \n",
      "60  6b981ca5-a945-4331-9e92-a8948cddb1e9  \n",
      "61  a76653ce-8e5e-49a5-83e6-58c6139ca7fe  \n",
      "62  043c65bc-a16d-472c-aa76-7e3d0b3f48eb  \n",
      "63  e6fd8c5f-32b0-4f16-a8ed-95b03298e83e  \n",
      "64  5b1bc853-0ec0-423a-9200-21c440c9a7cc  \n",
      "65  5e181bd3-3d8d-4d9e-b981-54c4ca97bb8b  \n",
      "66  269cbe29-b1e2-484b-905f-bbd83a380899  \n",
      "67  32656e9d-5057-4019-ba83-d2713ef60605  \n",
      "68  b78ae496-5748-49d1-93d1-7530d5e2e367  \n",
      "69  205eaaae-5679-47ad-b6e7-b544b95436ae  \n",
      "70  359655bf-5bdb-43f6-96b7-6162bffe9ea1  \n",
      "71  ac82ed8d-a156-42d4-83e2-ac420b748304  \n",
      "72  ff16af4c-efe9-4a7e-8a2f-a172104c2614  \n",
      "73  6e1f573f-c6d3-42e5-a800-7c118f442a14  \n",
      "74  aa645923-a592-46fe-9069-737a2e4a7ac6  \n",
      "75  8118699b-f496-41fa-b0bd-d1fab56af3d9  \n",
      "76  34996c50-e065-4407-8aa9-e09c9e485cea  \n",
      "77  9aed1a13-4f47-4302-9e23-edfeb3c4283f  \n",
      "78  f05e3ca0-bba7-4a31-89a0-ab345fad7ef7  \n",
      "79  1a058730-3759-47c0-9f79-273598cf85f1  \n"
     ]
    }
   ],
   "source": [
    "# model.get('independentFeatures', [])\n",
    "possible_values = model['independentFeatures'][1]['possibleValues']\n",
    "df = pd.DataFrame(possible_values)\n",
    "df = df[['value', 'key']]\n",
    "\n",
    "pd.set_option('display.max_rows', None)\n",
    "print(df)"
   ]
  },
  {
   "cell_type": "markdown",
   "id": "59a65a49",
   "metadata": {},
   "source": [
    "# Use QsarToolBox Calculator to take pedictions.\n",
    "Example: Diameter maximum --> \"1804a854-9041-4495-9931-7414c22a5e49\""
   ]
  },
  {
   "cell_type": "code",
   "execution_count": 13,
   "id": "6265c1c3",
   "metadata": {
    "tags": []
   },
   "outputs": [
    {
     "data": {
      "text/plain": [
       "[{'Name': 'Alkanes, C2-3',\n",
       "  'Unit': '',\n",
       "  'Value': None,\n",
       "  'ChemId': '161f01b7-3c5a-c901-2b35-4734d8bd3a95',\n",
       "  'Family': 'None',\n",
       "  'MaxValue': None,\n",
       "  'MinValue': None,\n",
       "  'Qualifier': 'None',\n",
       "  'MaxQualifier': 'None',\n",
       "  'MinQualifier': 'None',\n",
       "  'jaqpotInternalId': '0'},\n",
       " {'Name': 'Ethane',\n",
       "  'Unit': 'Å',\n",
       "  'Value': '5.331118583679199',\n",
       "  'ChemId': '3c6c8350-508d-1765-d8b2-f0c9e8f71c12',\n",
       "  'Family': 'Distance',\n",
       "  'MaxValue': '5.331118583679199',\n",
       "  'MinValue': '5.331118583679199',\n",
       "  'Qualifier': 'None',\n",
       "  'MaxQualifier': 'None',\n",
       "  'MinQualifier': 'None',\n",
       "  'jaqpotInternalId': '0'},\n",
       " {'Name': 'Hydrocarbons, C1-3',\n",
       "  'Unit': '',\n",
       "  'Value': None,\n",
       "  'ChemId': 'a14aa810-2847-f8a2-0564-c4b2581fef7f',\n",
       "  'Family': 'None',\n",
       "  'MaxValue': None,\n",
       "  'MinValue': None,\n",
       "  'Qualifier': 'None',\n",
       "  'MaxQualifier': 'None',\n",
       "  'MinQualifier': 'None',\n",
       "  'jaqpotInternalId': '0'}]"
      ]
     },
     "execution_count": 13,
     "metadata": {},
     "output_type": "execute_result"
    }
   ],
   "source": [
    "jaqpot.qsartoolbox_calculator_predict_sync(smiles=\"CC\", calculator_guid=\"1804a854-9041-4495-9931-7414c22a5e49\")"
   ]
  },
  {
   "cell_type": "markdown",
   "id": "88c0ed8d",
   "metadata": {},
   "source": [
    "# Use QsarToolBox Model to take pedictions. \n",
    "Example: Water Solubility (EPISUITE) --> \"a622f86b-c8db-4bcf-8a2e-af849bd1aa2e\""
   ]
  },
  {
   "cell_type": "code",
   "execution_count": 14,
   "id": "3657e91e",
   "metadata": {
    "tags": []
   },
   "outputs": [
    {
     "data": {
      "text/plain": [
       "[{'Name': 'Alkanes, C2-3',\n",
       "  'Unit': 'mg/L',\n",
       "  'Value': '',\n",
       "  'ChemId': '161f01b7-3c5a-c901-2b35-4734d8bd3a95',\n",
       "  'Family': 'Mass concentration',\n",
       "  'DataType': 'Qsar prediction.',\n",
       "  'Endpoint': 'Water Solubility',\n",
       "  'MaxValue': None,\n",
       "  'MetaData': ['Prediction approach=External SAR/QSAR',\n",
       "   'Domain=Not applicable (Water Solubility (EPISUITE))',\n",
       "   'Endpoint=Water Solubility',\n",
       "   'SAR/(Q)SAR=Water Solubility (EPISUITE) (v1.0)',\n",
       "   'Domain status=Not applicable',\n",
       "   'Primary group=N/A',\n",
       "   'Primary group with metabolism=N/A',\n",
       "   '(Q)SAR options='],\n",
       "  'MinValue': None,\n",
       "  'Qualifier': '',\n",
       "  'RigidPath': 'Physical Chemical Properties#Water solubility',\n",
       "  'DomainResult': 'NotApplicable',\n",
       "  'MaxQualifier': '',\n",
       "  'MinQualifier': '',\n",
       "  'DomainExplain': None,\n",
       "  'jaqpotInternalId': '0'},\n",
       " {'Name': 'Hydrocarbons, C1-3',\n",
       "  'Unit': 'mg/L',\n",
       "  'Value': '',\n",
       "  'ChemId': 'a14aa810-2847-f8a2-0564-c4b2581fef7f',\n",
       "  'Family': 'Mass concentration',\n",
       "  'DataType': 'Qsar prediction.',\n",
       "  'Endpoint': 'Water Solubility',\n",
       "  'MaxValue': None,\n",
       "  'MetaData': ['Prediction approach=External SAR/QSAR',\n",
       "   'Domain=Not applicable (Water Solubility (EPISUITE))',\n",
       "   'Endpoint=Water Solubility',\n",
       "   'SAR/(Q)SAR=Water Solubility (EPISUITE) (v1.0)',\n",
       "   'Domain status=Not applicable',\n",
       "   'Primary group=N/A',\n",
       "   'Primary group with metabolism=N/A',\n",
       "   '(Q)SAR options='],\n",
       "  'MinValue': None,\n",
       "  'Qualifier': '',\n",
       "  'RigidPath': 'Physical Chemical Properties#Water solubility',\n",
       "  'DomainResult': 'NotApplicable',\n",
       "  'MaxQualifier': '',\n",
       "  'MinQualifier': '',\n",
       "  'DomainExplain': None,\n",
       "  'jaqpotInternalId': '0'},\n",
       " {'Name': 'Ethane',\n",
       "  'Unit': 'mg/L',\n",
       "  'Value': '938.6',\n",
       "  'ChemId': '3c6c8350-508d-1765-d8b2-f0c9e8f71c12',\n",
       "  'Family': 'Mass concentration',\n",
       "  'DataType': 'Qsar prediction.',\n",
       "  'Endpoint': 'Water Solubility',\n",
       "  'MaxValue': None,\n",
       "  'MetaData': ['Prediction approach=External SAR/QSAR',\n",
       "   'Domain=Undefined (Water Solubility (EPISUITE))',\n",
       "   'Endpoint=Water Solubility',\n",
       "   'SAR/(Q)SAR=Water Solubility (EPISUITE) (v1.0)',\n",
       "   'Domain status=Undefined',\n",
       "   'Primary group=N/A',\n",
       "   'Primary group with metabolism=N/A',\n",
       "   '(Q)SAR options='],\n",
       "  'MinValue': None,\n",
       "  'Qualifier': '',\n",
       "  'RigidPath': 'Physical Chemical Properties#Water solubility',\n",
       "  'DomainResult': 'Undefined',\n",
       "  'MaxQualifier': '',\n",
       "  'MinQualifier': '',\n",
       "  'DomainExplain': None,\n",
       "  'jaqpotInternalId': '0'}]"
      ]
     },
     "execution_count": 14,
     "metadata": {},
     "output_type": "execute_result"
    }
   ],
   "source": [
    "jaqpot.qsartoolbox_qsar_model_predict_sync(smiles=\"CC\", qsar_guid=\"a622f86b-c8db-4bcf-8a2e-af849bd1aa2e\")"
   ]
  },
  {
   "cell_type": "markdown",
   "id": "f26fed0c",
   "metadata": {},
   "source": [
    "# Use QsarToolBox Profiler to take pedictions. \n",
    "Example: Blood brain barrier --> \"48ddf1f2-fae6-4672-8f71-6c13e6f1008e\""
   ]
  },
  {
   "cell_type": "code",
   "execution_count": 15,
   "id": "815dc8e9",
   "metadata": {
    "tags": []
   },
   "outputs": [
    {
     "data": {
      "text/plain": [
       "[{'Name': 'Alkanes, C2-3',\n",
       "  'Value': '(N/A)',\n",
       "  'ChemId': '161f01b7-3c5a-c901-2b35-4734d8bd3a95',\n",
       "  'jaqpotInternalId': '0'},\n",
       " {'Name': 'Ethane',\n",
       "  'Value': 'Poor permeable',\n",
       "  'ChemId': '3c6c8350-508d-1765-d8b2-f0c9e8f71c12',\n",
       "  'jaqpotInternalId': '0'},\n",
       " {'Name': 'Hydrocarbons, C1-3',\n",
       "  'Value': '(N/A)',\n",
       "  'ChemId': 'a14aa810-2847-f8a2-0564-c4b2581fef7f',\n",
       "  'jaqpotInternalId': '0'}]"
      ]
     },
     "execution_count": 15,
     "metadata": {},
     "output_type": "execute_result"
    }
   ],
   "source": [
    "jaqpot.qsartoolbox_profiler_predict_sync(smiles=\"CC\", profiler_guid=\"48ddf1f2-fae6-4672-8f71-6c13e6f1008e\")"
   ]
  }
 ],
 "metadata": {
  "kernelspec": {
   "display_name": "Python 3 (ipykernel)",
   "language": "python",
   "name": "python3"
  },
  "language_info": {
   "codemirror_mode": {
    "name": "ipython",
    "version": 3
   },
   "file_extension": ".py",
   "mimetype": "text/x-python",
   "name": "python",
   "nbconvert_exporter": "python",
   "pygments_lexer": "ipython3",
   "version": "3.11.3"
  }
 },
 "nbformat": 4,
 "nbformat_minor": 5
}
